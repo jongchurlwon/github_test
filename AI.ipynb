{
  "nbformat": 4,
  "nbformat_minor": 0,
  "metadata": {
    "colab": {
      "name": "Untitled1.ipynb",
      "provenance": [],
      "authorship_tag": "ABX9TyNwvJBUTWGd1vk3VmsqIQfB",
      "include_colab_link": true
    },
    "kernelspec": {
      "name": "python3",
      "display_name": "Python 3"
    },
    "language_info": {
      "name": "python"
    }
  },
  "cells": [
    {
      "cell_type": "markdown",
      "metadata": {
        "id": "view-in-github",
        "colab_type": "text"
      },
      "source": [
        "<a href=\"https://colab.research.google.com/github/jongchurlwon/github_test/blob/main/AI.ipynb\" target=\"_parent\"><img src=\"https://colab.research.google.com/assets/colab-badge.svg\" alt=\"Open In Colab\"/></a>"
      ]
    },
    {
      "cell_type": "code",
      "metadata": {
        "colab": {
          "base_uri": "https://localhost:8080/"
        },
        "id": "s41rb3shDRmI",
        "outputId": "4608bba2-4658-403f-bc4b-86b9b74bb64f"
      },
      "source": [
        "!pip install pyupbit"
      ],
      "execution_count": 1,
      "outputs": [
        {
          "output_type": "stream",
          "text": [
            "Collecting pyupbit\n",
            "  Downloading pyupbit-0.2.19-py3-none-any.whl (19 kB)\n",
            "Requirement already satisfied: pandas in /usr/local/lib/python3.7/dist-packages (from pyupbit) (1.1.5)\n",
            "Collecting websockets\n",
            "  Downloading websockets-9.1-cp37-cp37m-manylinux2010_x86_64.whl (103 kB)\n",
            "\u001b[K     |████████████████████████████████| 103 kB 36.0 MB/s \n",
            "\u001b[?25hRequirement already satisfied: requests in /usr/local/lib/python3.7/dist-packages (from pyupbit) (2.23.0)\n",
            "Collecting pyjwt>=2.0.0\n",
            "  Downloading PyJWT-2.1.0-py3-none-any.whl (16 kB)\n",
            "Requirement already satisfied: numpy>=1.15.4 in /usr/local/lib/python3.7/dist-packages (from pandas->pyupbit) (1.19.5)\n",
            "Requirement already satisfied: pytz>=2017.2 in /usr/local/lib/python3.7/dist-packages (from pandas->pyupbit) (2018.9)\n",
            "Requirement already satisfied: python-dateutil>=2.7.3 in /usr/local/lib/python3.7/dist-packages (from pandas->pyupbit) (2.8.1)\n",
            "Requirement already satisfied: six>=1.5 in /usr/local/lib/python3.7/dist-packages (from python-dateutil>=2.7.3->pandas->pyupbit) (1.15.0)\n",
            "Requirement already satisfied: idna<3,>=2.5 in /usr/local/lib/python3.7/dist-packages (from requests->pyupbit) (2.10)\n",
            "Requirement already satisfied: certifi>=2017.4.17 in /usr/local/lib/python3.7/dist-packages (from requests->pyupbit) (2021.5.30)\n",
            "Requirement already satisfied: urllib3!=1.25.0,!=1.25.1,<1.26,>=1.21.1 in /usr/local/lib/python3.7/dist-packages (from requests->pyupbit) (1.24.3)\n",
            "Requirement already satisfied: chardet<4,>=3.0.2 in /usr/local/lib/python3.7/dist-packages (from requests->pyupbit) (3.0.4)\n",
            "Installing collected packages: websockets, pyjwt, pyupbit\n",
            "Successfully installed pyjwt-2.1.0 pyupbit-0.2.19 websockets-9.1\n"
          ],
          "name": "stdout"
        }
      ]
    },
    {
      "cell_type": "code",
      "metadata": {
        "id": "_DBu3ckuEQwU"
      },
      "source": [
        "import pyupbit"
      ],
      "execution_count": 3,
      "outputs": []
    },
    {
      "cell_type": "code",
      "metadata": {
        "colab": {
          "base_uri": "https://localhost:8080/",
          "height": 419
        },
        "id": "xDjA-XH6EV5b",
        "outputId": "93a1f4cd-6fb8-4ddb-ad14-d9bff2ba3416"
      },
      "source": [
        "#BTC 최근 200시간의 데이터 불러옴\n",
        "df = pyupbit.get_ohlcv(\"KRW-ETH\", interval=\"minute60\")\n",
        "df"
      ],
      "execution_count": 19,
      "outputs": [
        {
          "output_type": "execute_result",
          "data": {
            "text/html": [
              "<div>\n",
              "<style scoped>\n",
              "    .dataframe tbody tr th:only-of-type {\n",
              "        vertical-align: middle;\n",
              "    }\n",
              "\n",
              "    .dataframe tbody tr th {\n",
              "        vertical-align: top;\n",
              "    }\n",
              "\n",
              "    .dataframe thead th {\n",
              "        text-align: right;\n",
              "    }\n",
              "</style>\n",
              "<table border=\"1\" class=\"dataframe\">\n",
              "  <thead>\n",
              "    <tr style=\"text-align: right;\">\n",
              "      <th></th>\n",
              "      <th>open</th>\n",
              "      <th>high</th>\n",
              "      <th>low</th>\n",
              "      <th>close</th>\n",
              "      <th>volume</th>\n",
              "      <th>value</th>\n",
              "    </tr>\n",
              "  </thead>\n",
              "  <tbody>\n",
              "    <tr>\n",
              "      <th>2021-07-22 17:00:00</th>\n",
              "      <td>2352000.0</td>\n",
              "      <td>2386000.0</td>\n",
              "      <td>2349000.0</td>\n",
              "      <td>2372000.0</td>\n",
              "      <td>5005.511527</td>\n",
              "      <td>1.186920e+10</td>\n",
              "    </tr>\n",
              "    <tr>\n",
              "      <th>2021-07-22 18:00:00</th>\n",
              "      <td>2371000.0</td>\n",
              "      <td>2374000.0</td>\n",
              "      <td>2319000.0</td>\n",
              "      <td>2343000.0</td>\n",
              "      <td>6954.286941</td>\n",
              "      <td>1.630471e+10</td>\n",
              "    </tr>\n",
              "    <tr>\n",
              "      <th>2021-07-22 19:00:00</th>\n",
              "      <td>2341000.0</td>\n",
              "      <td>2351000.0</td>\n",
              "      <td>2331000.0</td>\n",
              "      <td>2339000.0</td>\n",
              "      <td>2775.221830</td>\n",
              "      <td>6.495505e+09</td>\n",
              "    </tr>\n",
              "    <tr>\n",
              "      <th>2021-07-22 20:00:00</th>\n",
              "      <td>2338000.0</td>\n",
              "      <td>2345000.0</td>\n",
              "      <td>2325000.0</td>\n",
              "      <td>2339000.0</td>\n",
              "      <td>2702.324229</td>\n",
              "      <td>6.310859e+09</td>\n",
              "    </tr>\n",
              "    <tr>\n",
              "      <th>2021-07-22 21:00:00</th>\n",
              "      <td>2339000.0</td>\n",
              "      <td>2369000.0</td>\n",
              "      <td>2305000.0</td>\n",
              "      <td>2366000.0</td>\n",
              "      <td>5972.233797</td>\n",
              "      <td>1.395939e+10</td>\n",
              "    </tr>\n",
              "    <tr>\n",
              "      <th>...</th>\n",
              "      <td>...</td>\n",
              "      <td>...</td>\n",
              "      <td>...</td>\n",
              "      <td>...</td>\n",
              "      <td>...</td>\n",
              "      <td>...</td>\n",
              "    </tr>\n",
              "    <tr>\n",
              "      <th>2021-07-30 20:00:00</th>\n",
              "      <td>2733000.0</td>\n",
              "      <td>2734000.0</td>\n",
              "      <td>2696000.0</td>\n",
              "      <td>2699000.0</td>\n",
              "      <td>3374.772060</td>\n",
              "      <td>9.165361e+09</td>\n",
              "    </tr>\n",
              "    <tr>\n",
              "      <th>2021-07-30 21:00:00</th>\n",
              "      <td>2699000.0</td>\n",
              "      <td>2719000.0</td>\n",
              "      <td>2696000.0</td>\n",
              "      <td>2707000.0</td>\n",
              "      <td>2575.783822</td>\n",
              "      <td>6.975693e+09</td>\n",
              "    </tr>\n",
              "    <tr>\n",
              "      <th>2021-07-30 22:00:00</th>\n",
              "      <td>2706000.0</td>\n",
              "      <td>2725000.0</td>\n",
              "      <td>2697000.0</td>\n",
              "      <td>2713000.0</td>\n",
              "      <td>3559.870699</td>\n",
              "      <td>9.658838e+09</td>\n",
              "    </tr>\n",
              "    <tr>\n",
              "      <th>2021-07-30 23:00:00</th>\n",
              "      <td>2712000.0</td>\n",
              "      <td>2735000.0</td>\n",
              "      <td>2709000.0</td>\n",
              "      <td>2715000.0</td>\n",
              "      <td>4052.005629</td>\n",
              "      <td>1.103030e+10</td>\n",
              "    </tr>\n",
              "    <tr>\n",
              "      <th>2021-07-31 00:00:00</th>\n",
              "      <td>2715000.0</td>\n",
              "      <td>2730000.0</td>\n",
              "      <td>2707000.0</td>\n",
              "      <td>2727000.0</td>\n",
              "      <td>1069.725713</td>\n",
              "      <td>2.905251e+09</td>\n",
              "    </tr>\n",
              "  </tbody>\n",
              "</table>\n",
              "<p>200 rows × 6 columns</p>\n",
              "</div>"
            ],
            "text/plain": [
              "                          open       high  ...       volume         value\n",
              "2021-07-22 17:00:00  2352000.0  2386000.0  ...  5005.511527  1.186920e+10\n",
              "2021-07-22 18:00:00  2371000.0  2374000.0  ...  6954.286941  1.630471e+10\n",
              "2021-07-22 19:00:00  2341000.0  2351000.0  ...  2775.221830  6.495505e+09\n",
              "2021-07-22 20:00:00  2338000.0  2345000.0  ...  2702.324229  6.310859e+09\n",
              "2021-07-22 21:00:00  2339000.0  2369000.0  ...  5972.233797  1.395939e+10\n",
              "...                        ...        ...  ...          ...           ...\n",
              "2021-07-30 20:00:00  2733000.0  2734000.0  ...  3374.772060  9.165361e+09\n",
              "2021-07-30 21:00:00  2699000.0  2719000.0  ...  2575.783822  6.975693e+09\n",
              "2021-07-30 22:00:00  2706000.0  2725000.0  ...  3559.870699  9.658838e+09\n",
              "2021-07-30 23:00:00  2712000.0  2735000.0  ...  4052.005629  1.103030e+10\n",
              "2021-07-31 00:00:00  2715000.0  2730000.0  ...  1069.725713  2.905251e+09\n",
              "\n",
              "[200 rows x 6 columns]"
            ]
          },
          "metadata": {
            "tags": []
          },
          "execution_count": 19
        }
      ]
    },
    {
      "cell_type": "code",
      "metadata": {
        "colab": {
          "base_uri": "https://localhost:8080/",
          "height": 419
        },
        "id": "_I53gPweEgtC",
        "outputId": "b4534478-3175-46f0-d165-ab9df7b76e0c"
      },
      "source": [
        "#시간(ds)와 종가(y)값만 남김\n",
        "df = df.reset_index()\n",
        "df['ds'] = df['index']\n",
        "df['y'] = df['close']\n",
        "data = df[['ds','y']]\n",
        "data"
      ],
      "execution_count": 20,
      "outputs": [
        {
          "output_type": "execute_result",
          "data": {
            "text/html": [
              "<div>\n",
              "<style scoped>\n",
              "    .dataframe tbody tr th:only-of-type {\n",
              "        vertical-align: middle;\n",
              "    }\n",
              "\n",
              "    .dataframe tbody tr th {\n",
              "        vertical-align: top;\n",
              "    }\n",
              "\n",
              "    .dataframe thead th {\n",
              "        text-align: right;\n",
              "    }\n",
              "</style>\n",
              "<table border=\"1\" class=\"dataframe\">\n",
              "  <thead>\n",
              "    <tr style=\"text-align: right;\">\n",
              "      <th></th>\n",
              "      <th>ds</th>\n",
              "      <th>y</th>\n",
              "    </tr>\n",
              "  </thead>\n",
              "  <tbody>\n",
              "    <tr>\n",
              "      <th>0</th>\n",
              "      <td>2021-07-22 17:00:00</td>\n",
              "      <td>2372000.0</td>\n",
              "    </tr>\n",
              "    <tr>\n",
              "      <th>1</th>\n",
              "      <td>2021-07-22 18:00:00</td>\n",
              "      <td>2343000.0</td>\n",
              "    </tr>\n",
              "    <tr>\n",
              "      <th>2</th>\n",
              "      <td>2021-07-22 19:00:00</td>\n",
              "      <td>2339000.0</td>\n",
              "    </tr>\n",
              "    <tr>\n",
              "      <th>3</th>\n",
              "      <td>2021-07-22 20:00:00</td>\n",
              "      <td>2339000.0</td>\n",
              "    </tr>\n",
              "    <tr>\n",
              "      <th>4</th>\n",
              "      <td>2021-07-22 21:00:00</td>\n",
              "      <td>2366000.0</td>\n",
              "    </tr>\n",
              "    <tr>\n",
              "      <th>...</th>\n",
              "      <td>...</td>\n",
              "      <td>...</td>\n",
              "    </tr>\n",
              "    <tr>\n",
              "      <th>195</th>\n",
              "      <td>2021-07-30 20:00:00</td>\n",
              "      <td>2699000.0</td>\n",
              "    </tr>\n",
              "    <tr>\n",
              "      <th>196</th>\n",
              "      <td>2021-07-30 21:00:00</td>\n",
              "      <td>2707000.0</td>\n",
              "    </tr>\n",
              "    <tr>\n",
              "      <th>197</th>\n",
              "      <td>2021-07-30 22:00:00</td>\n",
              "      <td>2713000.0</td>\n",
              "    </tr>\n",
              "    <tr>\n",
              "      <th>198</th>\n",
              "      <td>2021-07-30 23:00:00</td>\n",
              "      <td>2715000.0</td>\n",
              "    </tr>\n",
              "    <tr>\n",
              "      <th>199</th>\n",
              "      <td>2021-07-31 00:00:00</td>\n",
              "      <td>2727000.0</td>\n",
              "    </tr>\n",
              "  </tbody>\n",
              "</table>\n",
              "<p>200 rows × 2 columns</p>\n",
              "</div>"
            ],
            "text/plain": [
              "                     ds          y\n",
              "0   2021-07-22 17:00:00  2372000.0\n",
              "1   2021-07-22 18:00:00  2343000.0\n",
              "2   2021-07-22 19:00:00  2339000.0\n",
              "3   2021-07-22 20:00:00  2339000.0\n",
              "4   2021-07-22 21:00:00  2366000.0\n",
              "..                  ...        ...\n",
              "195 2021-07-30 20:00:00  2699000.0\n",
              "196 2021-07-30 21:00:00  2707000.0\n",
              "197 2021-07-30 22:00:00  2713000.0\n",
              "198 2021-07-30 23:00:00  2715000.0\n",
              "199 2021-07-31 00:00:00  2727000.0\n",
              "\n",
              "[200 rows x 2 columns]"
            ]
          },
          "metadata": {
            "tags": []
          },
          "execution_count": 20
        }
      ]
    },
    {
      "cell_type": "code",
      "metadata": {
        "id": "88GJrlN4EnO6"
      },
      "source": [
        "#prophet 불러옴\n",
        "from fbprophet import Prophet"
      ],
      "execution_count": 21,
      "outputs": []
    },
    {
      "cell_type": "code",
      "metadata": {
        "colab": {
          "base_uri": "https://localhost:8080/"
        },
        "id": "gM2zB_4kEp_C",
        "outputId": "7cd27fcb-8c79-4806-953c-5490a49b748d"
      },
      "source": [
        "#학습\n",
        "model = Prophet()\n",
        "model.fit(data)"
      ],
      "execution_count": 22,
      "outputs": [
        {
          "output_type": "stream",
          "text": [
            "INFO:fbprophet:Disabling yearly seasonality. Run prophet with yearly_seasonality=True to override this.\n",
            "INFO:fbprophet:Disabling weekly seasonality. Run prophet with weekly_seasonality=True to override this.\n"
          ],
          "name": "stderr"
        },
        {
          "output_type": "execute_result",
          "data": {
            "text/plain": [
              "<fbprophet.forecaster.Prophet at 0x7efbf5814b10>"
            ]
          },
          "metadata": {
            "tags": []
          },
          "execution_count": 22
        }
      ]
    },
    {
      "cell_type": "code",
      "metadata": {
        "id": "PlbZrXmPEtRS"
      },
      "source": [
        "\n",
        "#24시간 미래 예측\n",
        "future = model.make_future_dataframe(periods=24, freq='H')\n",
        "forecast = model.predict(future)"
      ],
      "execution_count": 23,
      "outputs": []
    },
    {
      "cell_type": "code",
      "metadata": {
        "colab": {
          "base_uri": "https://localhost:8080/",
          "height": 441
        },
        "id": "1Jg8c1ldExpS",
        "outputId": "6e8f464c-e0b6-4057-9978-72d9abac56b7"
      },
      "source": [
        "#그래프1\n",
        "fig1 = model.plot(forecast)\n"
      ],
      "execution_count": 24,
      "outputs": [
        {
          "output_type": "display_data",
          "data": {
            "image/png": "[encoded data removed]",
            "text/plain": [
              "<Figure size 720x432 with 1 Axes>"
            ]
          },
          "metadata": {
            "tags": []
          }
        }
      ]
    },
    {
      "cell_type": "code",
      "metadata": {
        "colab": {
          "base_uri": "https://localhost:8080/",
          "height": 441
        },
        "id": "KSwfplvzE13K",
        "outputId": "2baa176d-519d-47e9-d6eb-8a85214564e2"
      },
      "source": [
        "#그래프2\n",
        "fig2 = model.plot_components(forecast)"
      ],
      "execution_count": 25,
      "outputs": [
        {
          "output_type": "display_data",
          "data": {
            "image/png": "[encoded data removed]",
            "text/plain": [
              "<Figure size 648x432 with 2 Axes>"
            ]
          },
          "metadata": {
            "tags": []
          }
        }
      ]
    },
    {
      "cell_type": "code",
      "metadata": {
        "colab": {
          "base_uri": "https://localhost:8080/"
        },
        "id": "GIJ9VxPuE5-K",
        "outputId": "ca100478-0852-43b3-9161-2e3dbc2bc339"
      },
      "source": [
        "#매수 시점의 가격\n",
        "nowValue = pyupbit.get_current_price(\"KRW-ETH\")\n",
        "nowValue"
      ],
      "execution_count": 26,
      "outputs": [
        {
          "output_type": "execute_result",
          "data": {
            "text/plain": [
              "2727000.0"
            ]
          },
          "metadata": {
            "tags": []
          },
          "execution_count": 26
        }
      ]
    },
    {
      "cell_type": "code",
      "metadata": {
        "colab": {
          "base_uri": "https://localhost:8080/"
        },
        "id": "uC4ZFxrHE9ni",
        "outputId": "0140de04-fe52-4ced-ea4e-b408581842c0"
      },
      "source": [
        "\n",
        "#종가의 가격을 구함\n",
        "\n",
        "#현재 시간이 자정 이전\n",
        "closeDf = forecast[forecast['ds'] == forecast.iloc[-1]['ds'].replace(hour=9)]\n",
        "\n",
        "#현재 시간이 자정 이후\n",
        "if len(closeDf) == 0:\n",
        "  closeDf = forecast[forecast['ds'] == data.iloc[-1]['ds'].replace(hour=9)]\n",
        "\n",
        "#어쨋든 당일 종가\n",
        "closeValue = closeDf['yhat'].values[0]\n",
        "closeValue"
      ],
      "execution_count": 27,
      "outputs": [
        {
          "output_type": "execute_result",
          "data": {
            "text/plain": [
              "2755170.7701194733"
            ]
          },
          "metadata": {
            "tags": []
          },
          "execution_count": 27
        }
      ]
    },
    {
      "cell_type": "code",
      "metadata": {
        "colab": {
          "base_uri": "https://localhost:8080/"
        },
        "id": "x3zTpfOIFBIy",
        "outputId": "27151f2a-e986-4559-af4d-fc670b3e447b"
      },
      "source": [
        "\n",
        "#구체적인 가격\n",
        "print(\"현재 시점 가격: \", nowValue)\n",
        "print(\"종가의 가격: \", closeValue)"
      ],
      "execution_count": 28,
      "outputs": [
        {
          "output_type": "stream",
          "text": [
            "현재 시점 가격:  2727000.0\n",
            "종가의 가격:  2755170.7701194733\n"
          ],
          "name": "stdout"
        }
      ]
    },
    {
      "cell_type": "code",
      "metadata": {
        "colab": {
          "base_uri": "https://localhost:8080/",
          "height": 779
        },
        "id": "F_hR4AF0FD5S",
        "outputId": "f6d96d6e-deed-4db9-ee42-b83b764d4a59"
      },
      "source": [
        "forecast"
      ],
      "execution_count": 18,
      "outputs": [
        {
          "output_type": "execute_result",
          "data": {
            "text/html": [
              "<div>\n",
              "<style scoped>\n",
              "    .dataframe tbody tr th:only-of-type {\n",
              "        vertical-align: middle;\n",
              "    }\n",
              "\n",
              "    .dataframe tbody tr th {\n",
              "        vertical-align: top;\n",
              "    }\n",
              "\n",
              "    .dataframe thead th {\n",
              "        text-align: right;\n",
              "    }\n",
              "</style>\n",
              "<table border=\"1\" class=\"dataframe\">\n",
              "  <thead>\n",
              "    <tr style=\"text-align: right;\">\n",
              "      <th></th>\n",
              "      <th>ds</th>\n",
              "      <th>trend</th>\n",
              "      <th>yhat_lower</th>\n",
              "      <th>yhat_upper</th>\n",
              "      <th>trend_lower</th>\n",
              "      <th>trend_upper</th>\n",
              "      <th>additive_terms</th>\n",
              "      <th>additive_terms_lower</th>\n",
              "      <th>additive_terms_upper</th>\n",
              "      <th>daily</th>\n",
              "      <th>daily_lower</th>\n",
              "      <th>daily_upper</th>\n",
              "      <th>multiplicative_terms</th>\n",
              "      <th>multiplicative_terms_lower</th>\n",
              "      <th>multiplicative_terms_upper</th>\n",
              "      <th>yhat</th>\n",
              "    </tr>\n",
              "  </thead>\n",
              "  <tbody>\n",
              "    <tr>\n",
              "      <th>0</th>\n",
              "      <td>2021-07-22 17:00:00</td>\n",
              "      <td>2.345841e+06</td>\n",
              "      <td>2.295502e+06</td>\n",
              "      <td>2.398580e+06</td>\n",
              "      <td>2.345841e+06</td>\n",
              "      <td>2.345841e+06</td>\n",
              "      <td>1583.095698</td>\n",
              "      <td>1583.095698</td>\n",
              "      <td>1583.095698</td>\n",
              "      <td>1583.095698</td>\n",
              "      <td>1583.095698</td>\n",
              "      <td>1583.095698</td>\n",
              "      <td>0.0</td>\n",
              "      <td>0.0</td>\n",
              "      <td>0.0</td>\n",
              "      <td>2.347424e+06</td>\n",
              "    </tr>\n",
              "    <tr>\n",
              "      <th>1</th>\n",
              "      <td>2021-07-22 18:00:00</td>\n",
              "      <td>2.348590e+06</td>\n",
              "      <td>2.292266e+06</td>\n",
              "      <td>2.403721e+06</td>\n",
              "      <td>2.348590e+06</td>\n",
              "      <td>2.348590e+06</td>\n",
              "      <td>2467.362588</td>\n",
              "      <td>2467.362588</td>\n",
              "      <td>2467.362588</td>\n",
              "      <td>2467.362588</td>\n",
              "      <td>2467.362588</td>\n",
              "      <td>2467.362588</td>\n",
              "      <td>0.0</td>\n",
              "      <td>0.0</td>\n",
              "      <td>0.0</td>\n",
              "      <td>2.351058e+06</td>\n",
              "    </tr>\n",
              "    <tr>\n",
              "      <th>2</th>\n",
              "      <td>2021-07-22 19:00:00</td>\n",
              "      <td>2.351340e+06</td>\n",
              "      <td>2.303542e+06</td>\n",
              "      <td>2.409572e+06</td>\n",
              "      <td>2.351340e+06</td>\n",
              "      <td>2.351340e+06</td>\n",
              "      <td>6466.573460</td>\n",
              "      <td>6466.573460</td>\n",
              "      <td>6466.573460</td>\n",
              "      <td>6466.573460</td>\n",
              "      <td>6466.573460</td>\n",
              "      <td>6466.573460</td>\n",
              "      <td>0.0</td>\n",
              "      <td>0.0</td>\n",
              "      <td>0.0</td>\n",
              "      <td>2.357806e+06</td>\n",
              "    </tr>\n",
              "    <tr>\n",
              "      <th>3</th>\n",
              "      <td>2021-07-22 20:00:00</td>\n",
              "      <td>2.354089e+06</td>\n",
              "      <td>2.309335e+06</td>\n",
              "      <td>2.416257e+06</td>\n",
              "      <td>2.354089e+06</td>\n",
              "      <td>2.354089e+06</td>\n",
              "      <td>9125.263119</td>\n",
              "      <td>9125.263119</td>\n",
              "      <td>9125.263119</td>\n",
              "      <td>9125.263119</td>\n",
              "      <td>9125.263119</td>\n",
              "      <td>9125.263119</td>\n",
              "      <td>0.0</td>\n",
              "      <td>0.0</td>\n",
              "      <td>0.0</td>\n",
              "      <td>2.363214e+06</td>\n",
              "    </tr>\n",
              "    <tr>\n",
              "      <th>4</th>\n",
              "      <td>2021-07-22 21:00:00</td>\n",
              "      <td>2.356838e+06</td>\n",
              "      <td>2.309114e+06</td>\n",
              "      <td>2.419158e+06</td>\n",
              "      <td>2.356838e+06</td>\n",
              "      <td>2.356838e+06</td>\n",
              "      <td>7029.381177</td>\n",
              "      <td>7029.381177</td>\n",
              "      <td>7029.381177</td>\n",
              "      <td>7029.381177</td>\n",
              "      <td>7029.381177</td>\n",
              "      <td>7029.381177</td>\n",
              "      <td>0.0</td>\n",
              "      <td>0.0</td>\n",
              "      <td>0.0</td>\n",
              "      <td>2.363868e+06</td>\n",
              "    </tr>\n",
              "    <tr>\n",
              "      <th>...</th>\n",
              "      <td>...</td>\n",
              "      <td>...</td>\n",
              "      <td>...</td>\n",
              "      <td>...</td>\n",
              "      <td>...</td>\n",
              "      <td>...</td>\n",
              "      <td>...</td>\n",
              "      <td>...</td>\n",
              "      <td>...</td>\n",
              "      <td>...</td>\n",
              "      <td>...</td>\n",
              "      <td>...</td>\n",
              "      <td>...</td>\n",
              "      <td>...</td>\n",
              "      <td>...</td>\n",
              "      <td>...</td>\n",
              "    </tr>\n",
              "    <tr>\n",
              "      <th>219</th>\n",
              "      <td>2021-07-31 20:00:00</td>\n",
              "      <td>2.771943e+06</td>\n",
              "      <td>2.726862e+06</td>\n",
              "      <td>2.835109e+06</td>\n",
              "      <td>2.750562e+06</td>\n",
              "      <td>2.789980e+06</td>\n",
              "      <td>9125.263119</td>\n",
              "      <td>9125.263119</td>\n",
              "      <td>9125.263119</td>\n",
              "      <td>9125.263119</td>\n",
              "      <td>9125.263119</td>\n",
              "      <td>9125.263119</td>\n",
              "      <td>0.0</td>\n",
              "      <td>0.0</td>\n",
              "      <td>0.0</td>\n",
              "      <td>2.781068e+06</td>\n",
              "    </tr>\n",
              "    <tr>\n",
              "      <th>220</th>\n",
              "      <td>2021-07-31 21:00:00</td>\n",
              "      <td>2.773740e+06</td>\n",
              "      <td>2.721627e+06</td>\n",
              "      <td>2.836653e+06</td>\n",
              "      <td>2.750725e+06</td>\n",
              "      <td>2.793150e+06</td>\n",
              "      <td>7029.381178</td>\n",
              "      <td>7029.381178</td>\n",
              "      <td>7029.381178</td>\n",
              "      <td>7029.381178</td>\n",
              "      <td>7029.381178</td>\n",
              "      <td>7029.381178</td>\n",
              "      <td>0.0</td>\n",
              "      <td>0.0</td>\n",
              "      <td>0.0</td>\n",
              "      <td>2.780769e+06</td>\n",
              "    </tr>\n",
              "    <tr>\n",
              "      <th>221</th>\n",
              "      <td>2021-07-31 22:00:00</td>\n",
              "      <td>2.775537e+06</td>\n",
              "      <td>2.719324e+06</td>\n",
              "      <td>2.839881e+06</td>\n",
              "      <td>2.750694e+06</td>\n",
              "      <td>2.795855e+06</td>\n",
              "      <td>1244.616855</td>\n",
              "      <td>1244.616855</td>\n",
              "      <td>1244.616855</td>\n",
              "      <td>1244.616855</td>\n",
              "      <td>1244.616855</td>\n",
              "      <td>1244.616855</td>\n",
              "      <td>0.0</td>\n",
              "      <td>0.0</td>\n",
              "      <td>0.0</td>\n",
              "      <td>2.776782e+06</td>\n",
              "    </tr>\n",
              "    <tr>\n",
              "      <th>222</th>\n",
              "      <td>2021-07-31 23:00:00</td>\n",
              "      <td>2.777334e+06</td>\n",
              "      <td>2.711640e+06</td>\n",
              "      <td>2.832564e+06</td>\n",
              "      <td>2.750966e+06</td>\n",
              "      <td>2.799937e+06</td>\n",
              "      <td>-3635.024181</td>\n",
              "      <td>-3635.024181</td>\n",
              "      <td>-3635.024181</td>\n",
              "      <td>-3635.024181</td>\n",
              "      <td>-3635.024181</td>\n",
              "      <td>-3635.024181</td>\n",
              "      <td>0.0</td>\n",
              "      <td>0.0</td>\n",
              "      <td>0.0</td>\n",
              "      <td>2.773699e+06</td>\n",
              "    </tr>\n",
              "    <tr>\n",
              "      <th>223</th>\n",
              "      <td>2021-08-01 00:00:00</td>\n",
              "      <td>2.779131e+06</td>\n",
              "      <td>2.715148e+06</td>\n",
              "      <td>2.831849e+06</td>\n",
              "      <td>2.750404e+06</td>\n",
              "      <td>2.802718e+06</td>\n",
              "      <td>-4033.831025</td>\n",
              "      <td>-4033.831025</td>\n",
              "      <td>-4033.831025</td>\n",
              "      <td>-4033.831025</td>\n",
              "      <td>-4033.831025</td>\n",
              "      <td>-4033.831025</td>\n",
              "      <td>0.0</td>\n",
              "      <td>0.0</td>\n",
              "      <td>0.0</td>\n",
              "      <td>2.775097e+06</td>\n",
              "    </tr>\n",
              "  </tbody>\n",
              "</table>\n",
              "<p>224 rows × 16 columns</p>\n",
              "</div>"
            ],
            "text/plain": [
              "                     ds         trend  ...  multiplicative_terms_upper          yhat\n",
              "0   2021-07-22 17:00:00  2.345841e+06  ...                         0.0  2.347424e+06\n",
              "1   2021-07-22 18:00:00  2.348590e+06  ...                         0.0  2.351058e+06\n",
              "2   2021-07-22 19:00:00  2.351340e+06  ...                         0.0  2.357806e+06\n",
              "3   2021-07-22 20:00:00  2.354089e+06  ...                         0.0  2.363214e+06\n",
              "4   2021-07-22 21:00:00  2.356838e+06  ...                         0.0  2.363868e+06\n",
              "..                  ...           ...  ...                         ...           ...\n",
              "219 2021-07-31 20:00:00  2.771943e+06  ...                         0.0  2.781068e+06\n",
              "220 2021-07-31 21:00:00  2.773740e+06  ...                         0.0  2.780769e+06\n",
              "221 2021-07-31 22:00:00  2.775537e+06  ...                         0.0  2.776782e+06\n",
              "222 2021-07-31 23:00:00  2.777334e+06  ...                         0.0  2.773699e+06\n",
              "223 2021-08-01 00:00:00  2.779131e+06  ...                         0.0  2.775097e+06\n",
              "\n",
              "[224 rows x 16 columns]"
            ]
          },
          "metadata": {
            "tags": []
          },
          "execution_count": 18
        }
      ]
    },
    {
      "cell_type": "code",
      "metadata": {
        "id": "qsJIg1l2Glrk"
      },
      "source": [
        ""
      ],
      "execution_count": null,
      "outputs": []
    },
    {
      "cell_type": "code",
      "metadata": {
        "id": "5XP0rTpHFPei"
      },
      "source": [
        ""
      ],
      "execution_count": null,
      "outputs": []
    }
  ]
}