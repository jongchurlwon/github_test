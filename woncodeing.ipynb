{
  "nbformat": 4,
  "nbformat_minor": 0,
  "metadata": {
    "colab": {
      "name": "woncodeing.ipynb",
      "provenance": [],
      "authorship_tag": "ABX9TyNP411vS19s+K0o8lVqGp/+",
      "include_colab_link": true
    },
    "kernelspec": {
      "name": "python3",
      "display_name": "Python 3"
    },
    "language_info": {
      "name": "python"
    }
  },
  "cells": [
    {
      "cell_type": "markdown",
      "metadata": {
        "id": "view-in-github",
        "colab_type": "text"
      },
      "source": [
        "<a href=\"https://colab.research.google.com/github/jongchurlwon/github_test/blob/main/woncodeing.ipynb\" target=\"_parent\"><img src=\"https://colab.research.google.com/assets/colab-badge.svg\" alt=\"Open In Colab\"/></a>"
      ]
    },
    {
      "cell_type": "code",
      "metadata": {
        "colab": {
          "base_uri": "https://localhost:8080/"
        },
        "id": "Nu1rwQOWub2V",
        "outputId": "fc449cdf-0974-4788-f395-e16428d92514"
      },
      "source": [
        "!pip install pyupbit"
      ],
      "execution_count": 1,
      "outputs": [
        {
          "output_type": "stream",
          "text": [
            "Collecting pyupbit\n",
            "  Downloading pyupbit-0.2.19-py3-none-any.whl (19 kB)\n",
            "Collecting websockets\n",
            "  Downloading websockets-9.1-cp37-cp37m-manylinux2010_x86_64.whl (103 kB)\n",
            "\u001b[?25l\r\u001b[K     |███▏                            | 10 kB 30.7 MB/s eta 0:00:01\r\u001b[K     |██████▍                         | 20 kB 32.8 MB/s eta 0:00:01\r\u001b[K     |█████████▌                      | 30 kB 19.7 MB/s eta 0:00:01\r\u001b[K     |████████████▊                   | 40 kB 17.2 MB/s eta 0:00:01\r\u001b[K     |████████████████                | 51 kB 9.9 MB/s eta 0:00:01\r\u001b[K     |███████████████████             | 61 kB 11.5 MB/s eta 0:00:01\r\u001b[K     |██████████████████████▎         | 71 kB 8.3 MB/s eta 0:00:01\r\u001b[K     |█████████████████████████▍      | 81 kB 8.2 MB/s eta 0:00:01\r\u001b[K     |████████████████████████████▋   | 92 kB 9.0 MB/s eta 0:00:01\r\u001b[K     |███████████████████████████████▉| 102 kB 9.8 MB/s eta 0:00:01\r\u001b[K     |████████████████████████████████| 103 kB 9.8 MB/s \n",
            "\u001b[?25hCollecting pyjwt>=2.0.0\n",
            "  Downloading PyJWT-2.1.0-py3-none-any.whl (16 kB)\n",
            "Requirement already satisfied: requests in /usr/local/lib/python3.7/dist-packages (from pyupbit) (2.23.0)\n",
            "Requirement already satisfied: pandas in /usr/local/lib/python3.7/dist-packages (from pyupbit) (1.1.5)\n",
            "Requirement already satisfied: pytz>=2017.2 in /usr/local/lib/python3.7/dist-packages (from pandas->pyupbit) (2018.9)\n",
            "Requirement already satisfied: python-dateutil>=2.7.3 in /usr/local/lib/python3.7/dist-packages (from pandas->pyupbit) (2.8.1)\n",
            "Requirement already satisfied: numpy>=1.15.4 in /usr/local/lib/python3.7/dist-packages (from pandas->pyupbit) (1.19.5)\n",
            "Requirement already satisfied: six>=1.5 in /usr/local/lib/python3.7/dist-packages (from python-dateutil>=2.7.3->pandas->pyupbit) (1.15.0)\n",
            "Requirement already satisfied: certifi>=2017.4.17 in /usr/local/lib/python3.7/dist-packages (from requests->pyupbit) (2021.5.30)\n",
            "Requirement already satisfied: urllib3!=1.25.0,!=1.25.1,<1.26,>=1.21.1 in /usr/local/lib/python3.7/dist-packages (from requests->pyupbit) (1.24.3)\n",
            "Requirement already satisfied: idna<3,>=2.5 in /usr/local/lib/python3.7/dist-packages (from requests->pyupbit) (2.10)\n",
            "Requirement already satisfied: chardet<4,>=3.0.2 in /usr/local/lib/python3.7/dist-packages (from requests->pyupbit) (3.0.4)\n",
            "Installing collected packages: websockets, pyjwt, pyupbit\n",
            "Successfully installed pyjwt-2.1.0 pyupbit-0.2.19 websockets-9.1\n"
          ],
          "name": "stdout"
        }
      ]
    },
    {
      "cell_type": "code",
      "metadata": {
        "id": "uz0BQdxBvCEE"
      },
      "source": [
        "import pyupbit"
      ],
      "execution_count": 2,
      "outputs": []
    },
    {
      "cell_type": "code",
      "metadata": {
        "colab": {
          "base_uri": "https://localhost:8080/",
          "height": 419
        },
        "id": "oUTc_PvQvHqa",
        "outputId": "e0e866b3-2e29-4d82-e00d-504b406f7845"
      },
      "source": [
        "#BTC 최근 200시간의 데이터 불러옴\n",
        "df = pyupbit.get_ohlcv(\"KRW-ETH\", interval=\"minute60\")\n",
        "df"
      ],
      "execution_count": 3,
      "outputs": [
        {
          "output_type": "execute_result",
          "data": {
            "text/html": [
              "<div>\n",
              "<style scoped>\n",
              "    .dataframe tbody tr th:only-of-type {\n",
              "        vertical-align: middle;\n",
              "    }\n",
              "\n",
              "    .dataframe tbody tr th {\n",
              "        vertical-align: top;\n",
              "    }\n",
              "\n",
              "    .dataframe thead th {\n",
              "        text-align: right;\n",
              "    }\n",
              "</style>\n",
              "<table border=\"1\" class=\"dataframe\">\n",
              "  <thead>\n",
              "    <tr style=\"text-align: right;\">\n",
              "      <th></th>\n",
              "      <th>open</th>\n",
              "      <th>high</th>\n",
              "      <th>low</th>\n",
              "      <th>close</th>\n",
              "      <th>volume</th>\n",
              "      <th>value</th>\n",
              "    </tr>\n",
              "  </thead>\n",
              "  <tbody>\n",
              "    <tr>\n",
              "      <th>2021-07-28 02:00:00</th>\n",
              "      <td>2582000.0</td>\n",
              "      <td>2591000.0</td>\n",
              "      <td>2570000.0</td>\n",
              "      <td>2585000.0</td>\n",
              "      <td>1561.834801</td>\n",
              "      <td>4.030947e+09</td>\n",
              "    </tr>\n",
              "    <tr>\n",
              "      <th>2021-07-28 03:00:00</th>\n",
              "      <td>2586000.0</td>\n",
              "      <td>2604000.0</td>\n",
              "      <td>2561000.0</td>\n",
              "      <td>2596000.0</td>\n",
              "      <td>1408.019744</td>\n",
              "      <td>3.632457e+09</td>\n",
              "    </tr>\n",
              "    <tr>\n",
              "      <th>2021-07-28 04:00:00</th>\n",
              "      <td>2596000.0</td>\n",
              "      <td>2601000.0</td>\n",
              "      <td>2580000.0</td>\n",
              "      <td>2581000.0</td>\n",
              "      <td>995.358484</td>\n",
              "      <td>2.580216e+09</td>\n",
              "    </tr>\n",
              "    <tr>\n",
              "      <th>2021-07-28 05:00:00</th>\n",
              "      <td>2581000.0</td>\n",
              "      <td>2609000.0</td>\n",
              "      <td>2580000.0</td>\n",
              "      <td>2600000.0</td>\n",
              "      <td>1139.326660</td>\n",
              "      <td>2.959686e+09</td>\n",
              "    </tr>\n",
              "    <tr>\n",
              "      <th>2021-07-28 06:00:00</th>\n",
              "      <td>2600000.0</td>\n",
              "      <td>2632000.0</td>\n",
              "      <td>2598000.0</td>\n",
              "      <td>2620000.0</td>\n",
              "      <td>1996.473906</td>\n",
              "      <td>5.224986e+09</td>\n",
              "    </tr>\n",
              "    <tr>\n",
              "      <th>...</th>\n",
              "      <td>...</td>\n",
              "      <td>...</td>\n",
              "      <td>...</td>\n",
              "      <td>...</td>\n",
              "      <td>...</td>\n",
              "      <td>...</td>\n",
              "    </tr>\n",
              "    <tr>\n",
              "      <th>2021-08-05 05:00:00</th>\n",
              "      <td>3103000.0</td>\n",
              "      <td>3130000.0</td>\n",
              "      <td>3098000.0</td>\n",
              "      <td>3122000.0</td>\n",
              "      <td>3748.355226</td>\n",
              "      <td>1.169027e+10</td>\n",
              "    </tr>\n",
              "    <tr>\n",
              "      <th>2021-08-05 06:00:00</th>\n",
              "      <td>3122000.0</td>\n",
              "      <td>3135000.0</td>\n",
              "      <td>3103000.0</td>\n",
              "      <td>3122000.0</td>\n",
              "      <td>6465.170334</td>\n",
              "      <td>2.015290e+10</td>\n",
              "    </tr>\n",
              "    <tr>\n",
              "      <th>2021-08-05 07:00:00</th>\n",
              "      <td>3122000.0</td>\n",
              "      <td>3176000.0</td>\n",
              "      <td>3109000.0</td>\n",
              "      <td>3137000.0</td>\n",
              "      <td>11719.929675</td>\n",
              "      <td>3.684993e+10</td>\n",
              "    </tr>\n",
              "    <tr>\n",
              "      <th>2021-08-05 08:00:00</th>\n",
              "      <td>3138000.0</td>\n",
              "      <td>3156000.0</td>\n",
              "      <td>3113000.0</td>\n",
              "      <td>3136000.0</td>\n",
              "      <td>6818.209453</td>\n",
              "      <td>2.137374e+10</td>\n",
              "    </tr>\n",
              "    <tr>\n",
              "      <th>2021-08-05 09:00:00</th>\n",
              "      <td>3135000.0</td>\n",
              "      <td>3160000.0</td>\n",
              "      <td>3120000.0</td>\n",
              "      <td>3134000.0</td>\n",
              "      <td>6913.280287</td>\n",
              "      <td>2.170281e+10</td>\n",
              "    </tr>\n",
              "  </tbody>\n",
              "</table>\n",
              "<p>200 rows × 6 columns</p>\n",
              "</div>"
            ],
            "text/plain": [
              "                          open       high  ...        volume         value\n",
              "2021-07-28 02:00:00  2582000.0  2591000.0  ...   1561.834801  4.030947e+09\n",
              "2021-07-28 03:00:00  2586000.0  2604000.0  ...   1408.019744  3.632457e+09\n",
              "2021-07-28 04:00:00  2596000.0  2601000.0  ...    995.358484  2.580216e+09\n",
              "2021-07-28 05:00:00  2581000.0  2609000.0  ...   1139.326660  2.959686e+09\n",
              "2021-07-28 06:00:00  2600000.0  2632000.0  ...   1996.473906  5.224986e+09\n",
              "...                        ...        ...  ...           ...           ...\n",
              "2021-08-05 05:00:00  3103000.0  3130000.0  ...   3748.355226  1.169027e+10\n",
              "2021-08-05 06:00:00  3122000.0  3135000.0  ...   6465.170334  2.015290e+10\n",
              "2021-08-05 07:00:00  3122000.0  3176000.0  ...  11719.929675  3.684993e+10\n",
              "2021-08-05 08:00:00  3138000.0  3156000.0  ...   6818.209453  2.137374e+10\n",
              "2021-08-05 09:00:00  3135000.0  3160000.0  ...   6913.280287  2.170281e+10\n",
              "\n",
              "[200 rows x 6 columns]"
            ]
          },
          "metadata": {
            "tags": []
          },
          "execution_count": 3
        }
      ]
    },
    {
      "cell_type": "code",
      "metadata": {
        "colab": {
          "base_uri": "https://localhost:8080/",
          "height": 419
        },
        "id": "oF3bD2WovKRC",
        "outputId": "2b1ff4a5-d9b4-4e2a-ab00-07bfa13d83fc"
      },
      "source": [
        "#시간(ds)와 종가(y)값만 남김\n",
        "df = df.reset_index()\n",
        "df['ds'] = df['index']\n",
        "df['y'] = df['close']\n",
        "data = df[['ds','y']]\n",
        "data"
      ],
      "execution_count": 4,
      "outputs": [
        {
          "output_type": "execute_result",
          "data": {
            "text/html": [
              "<div>\n",
              "<style scoped>\n",
              "    .dataframe tbody tr th:only-of-type {\n",
              "        vertical-align: middle;\n",
              "    }\n",
              "\n",
              "    .dataframe tbody tr th {\n",
              "        vertical-align: top;\n",
              "    }\n",
              "\n",
              "    .dataframe thead th {\n",
              "        text-align: right;\n",
              "    }\n",
              "</style>\n",
              "<table border=\"1\" class=\"dataframe\">\n",
              "  <thead>\n",
              "    <tr style=\"text-align: right;\">\n",
              "      <th></th>\n",
              "      <th>ds</th>\n",
              "      <th>y</th>\n",
              "    </tr>\n",
              "  </thead>\n",
              "  <tbody>\n",
              "    <tr>\n",
              "      <th>0</th>\n",
              "      <td>2021-07-28 02:00:00</td>\n",
              "      <td>2585000.0</td>\n",
              "    </tr>\n",
              "    <tr>\n",
              "      <th>1</th>\n",
              "      <td>2021-07-28 03:00:00</td>\n",
              "      <td>2596000.0</td>\n",
              "    </tr>\n",
              "    <tr>\n",
              "      <th>2</th>\n",
              "      <td>2021-07-28 04:00:00</td>\n",
              "      <td>2581000.0</td>\n",
              "    </tr>\n",
              "    <tr>\n",
              "      <th>3</th>\n",
              "      <td>2021-07-28 05:00:00</td>\n",
              "      <td>2600000.0</td>\n",
              "    </tr>\n",
              "    <tr>\n",
              "      <th>4</th>\n",
              "      <td>2021-07-28 06:00:00</td>\n",
              "      <td>2620000.0</td>\n",
              "    </tr>\n",
              "    <tr>\n",
              "      <th>...</th>\n",
              "      <td>...</td>\n",
              "      <td>...</td>\n",
              "    </tr>\n",
              "    <tr>\n",
              "      <th>195</th>\n",
              "      <td>2021-08-05 05:00:00</td>\n",
              "      <td>3122000.0</td>\n",
              "    </tr>\n",
              "    <tr>\n",
              "      <th>196</th>\n",
              "      <td>2021-08-05 06:00:00</td>\n",
              "      <td>3122000.0</td>\n",
              "    </tr>\n",
              "    <tr>\n",
              "      <th>197</th>\n",
              "      <td>2021-08-05 07:00:00</td>\n",
              "      <td>3137000.0</td>\n",
              "    </tr>\n",
              "    <tr>\n",
              "      <th>198</th>\n",
              "      <td>2021-08-05 08:00:00</td>\n",
              "      <td>3136000.0</td>\n",
              "    </tr>\n",
              "    <tr>\n",
              "      <th>199</th>\n",
              "      <td>2021-08-05 09:00:00</td>\n",
              "      <td>3134000.0</td>\n",
              "    </tr>\n",
              "  </tbody>\n",
              "</table>\n",
              "<p>200 rows × 2 columns</p>\n",
              "</div>"
            ],
            "text/plain": [
              "                     ds          y\n",
              "0   2021-07-28 02:00:00  2585000.0\n",
              "1   2021-07-28 03:00:00  2596000.0\n",
              "2   2021-07-28 04:00:00  2581000.0\n",
              "3   2021-07-28 05:00:00  2600000.0\n",
              "4   2021-07-28 06:00:00  2620000.0\n",
              "..                  ...        ...\n",
              "195 2021-08-05 05:00:00  3122000.0\n",
              "196 2021-08-05 06:00:00  3122000.0\n",
              "197 2021-08-05 07:00:00  3137000.0\n",
              "198 2021-08-05 08:00:00  3136000.0\n",
              "199 2021-08-05 09:00:00  3134000.0\n",
              "\n",
              "[200 rows x 2 columns]"
            ]
          },
          "metadata": {
            "tags": []
          },
          "execution_count": 4
        }
      ]
    },
    {
      "cell_type": "code",
      "metadata": {
        "id": "xj1jw5uWvN-i"
      },
      "source": [
        "#prophet 불러옴\n",
        "from fbprophet import Prophet"
      ],
      "execution_count": 5,
      "outputs": []
    },
    {
      "cell_type": "code",
      "metadata": {
        "colab": {
          "base_uri": "https://localhost:8080/"
        },
        "id": "rnohI5HUvSBq",
        "outputId": "973f2eaf-26cc-469e-a102-dba541c98d2d"
      },
      "source": [
        "#학습\n",
        "model = Prophet()\n",
        "model.fit(data)"
      ],
      "execution_count": 6,
      "outputs": [
        {
          "output_type": "stream",
          "text": [
            "INFO:numexpr.utils:NumExpr defaulting to 2 threads.\n",
            "INFO:fbprophet:Disabling yearly seasonality. Run prophet with yearly_seasonality=True to override this.\n",
            "INFO:fbprophet:Disabling weekly seasonality. Run prophet with weekly_seasonality=True to override this.\n"
          ],
          "name": "stderr"
        },
        {
          "output_type": "execute_result",
          "data": {
            "text/plain": [
              "<fbprophet.forecaster.Prophet at 0x7fcd4467b510>"
            ]
          },
          "metadata": {
            "tags": []
          },
          "execution_count": 6
        }
      ]
    },
    {
      "cell_type": "code",
      "metadata": {
        "id": "usmYFMW3vT-Z"
      },
      "source": [
        "#24시간 미래 예측\n",
        "future = model.make_future_dataframe(periods=24, freq='H')\n",
        "forecast = model.predict(future)"
      ],
      "execution_count": 7,
      "outputs": []
    },
    {
      "cell_type": "code",
      "metadata": {
        "colab": {
          "base_uri": "https://localhost:8080/",
          "height": 441
        },
        "id": "wopQ4k76vXS5",
        "outputId": "34650f89-86f2-4345-9d4b-ec967e1f13e7"
      },
      "source": [
        "#그래프1\n",
        "fig1 = model.plot(forecast)"
      ],
      "execution_count": 8,
      "outputs": [
        {
          "output_type": "display_data",
          "data": {
            "image/png": "[encoded data removed]",
            "text/plain": [
              "<Figure size 720x432 with 1 Axes>"
            ]
          },
          "metadata": {
            "tags": []
          }
        }
      ]
    },
    {
      "cell_type": "code",
      "metadata": {
        "colab": {
          "base_uri": "https://localhost:8080/",
          "height": 441
        },
        "id": "3RN_pcmTvaax",
        "outputId": "8e6b83f6-8b14-4035-918c-04b8b8854de1"
      },
      "source": [
        "#그래프2\n",
        "fig2 = model.plot_components(forecast)"
      ],
      "execution_count": 9,
      "outputs": [
        {
          "output_type": "display_data",
          "data": {
            "image/png": "[encoded data removed]",
            "text/plain": [
              "<Figure size 648x432 with 2 Axes>"
            ]
          },
          "metadata": {
            "tags": []
          }
        }
      ]
    },
    {
      "cell_type": "code",
      "metadata": {
        "colab": {
          "base_uri": "https://localhost:8080/"
        },
        "id": "jVZSttJQvdgJ",
        "outputId": "6a26a9fd-735a-4a9d-be70-fb7680f045a4"
      },
      "source": [
        "#매수 시점의 가격\n",
        "nowValue = pyupbit.get_current_price(\"KRW-ETH\")\n",
        "nowValue"
      ],
      "execution_count": 10,
      "outputs": [
        {
          "output_type": "execute_result",
          "data": {
            "text/plain": [
              "3140000.0"
            ]
          },
          "metadata": {
            "tags": []
          },
          "execution_count": 10
        }
      ]
    },
    {
      "cell_type": "code",
      "metadata": {
        "colab": {
          "base_uri": "https://localhost:8080/"
        },
        "id": "k7kQV49hvfO5",
        "outputId": "b7b492dd-ecfe-47b7-9e5d-614c44388523"
      },
      "source": [
        "#종가의 가격을 구함\n",
        "\n",
        "#현재 시간이 자정 이전\n",
        "closeDf = forecast[forecast['ds'] == forecast.iloc[-1]['ds'].replace(hour=9)]\n",
        "\n",
        "#현재 시간이 자정 이후\n",
        "if len(closeDf) == 0:\n",
        "  closeDf = forecast[forecast['ds'] == data.iloc[-1]['ds'].replace(hour=9)]\n",
        "\n",
        "#어쨋든 당일 종가\n",
        "closeValue = closeDf['yhat'].values[0]\n",
        "closeValue"
      ],
      "execution_count": 11,
      "outputs": [
        {
          "output_type": "execute_result",
          "data": {
            "text/plain": [
              "3166945.9675114327"
            ]
          },
          "metadata": {
            "tags": []
          },
          "execution_count": 11
        }
      ]
    },
    {
      "cell_type": "code",
      "metadata": {
        "colab": {
          "base_uri": "https://localhost:8080/"
        },
        "id": "leyvyAnCvrFK",
        "outputId": "8a7c9a43-5607-4fd2-ed7d-a2f6926869b3"
      },
      "source": [
        "#구체적인 가격\n",
        "print(\"현재 시점 가격: \", nowValue)\n",
        "print(\"종가의 가격: \", closeValue)"
      ],
      "execution_count": 12,
      "outputs": [
        {
          "output_type": "stream",
          "text": [
            "현재 시점 가격:  3140000.0\n",
            "종가의 가격:  3166945.9675114327\n"
          ],
          "name": "stdout"
        }
      ]
    },
    {
      "cell_type": "code",
      "metadata": {
        "colab": {
          "base_uri": "https://localhost:8080/",
          "height": 779
        },
        "id": "EQWeNe51vt4Z",
        "outputId": "547143b9-fc3a-4c53-d24c-a270099fe2b6"
      },
      "source": [
        "forecast"
      ],
      "execution_count": 13,
      "outputs": [
        {
          "output_type": "execute_result",
          "data": {
            "text/html": [
              "<div>\n",
              "<style scoped>\n",
              "    .dataframe tbody tr th:only-of-type {\n",
              "        vertical-align: middle;\n",
              "    }\n",
              "\n",
              "    .dataframe tbody tr th {\n",
              "        vertical-align: top;\n",
              "    }\n",
              "\n",
              "    .dataframe thead th {\n",
              "        text-align: right;\n",
              "    }\n",
              "</style>\n",
              "<table border=\"1\" class=\"dataframe\">\n",
              "  <thead>\n",
              "    <tr style=\"text-align: right;\">\n",
              "      <th></th>\n",
              "      <th>ds</th>\n",
              "      <th>trend</th>\n",
              "      <th>yhat_lower</th>\n",
              "      <th>yhat_upper</th>\n",
              "      <th>trend_lower</th>\n",
              "      <th>trend_upper</th>\n",
              "      <th>additive_terms</th>\n",
              "      <th>additive_terms_lower</th>\n",
              "      <th>additive_terms_upper</th>\n",
              "      <th>daily</th>\n",
              "      <th>daily_lower</th>\n",
              "      <th>daily_upper</th>\n",
              "      <th>multiplicative_terms</th>\n",
              "      <th>multiplicative_terms_lower</th>\n",
              "      <th>multiplicative_terms_upper</th>\n",
              "      <th>yhat</th>\n",
              "    </tr>\n",
              "  </thead>\n",
              "  <tbody>\n",
              "    <tr>\n",
              "      <th>0</th>\n",
              "      <td>2021-07-28 02:00:00</td>\n",
              "      <td>2.618383e+06</td>\n",
              "      <td>2.559034e+06</td>\n",
              "      <td>2.663984e+06</td>\n",
              "      <td>2.618383e+06</td>\n",
              "      <td>2.618383e+06</td>\n",
              "      <td>-5718.005571</td>\n",
              "      <td>-5718.005571</td>\n",
              "      <td>-5718.005571</td>\n",
              "      <td>-5718.005571</td>\n",
              "      <td>-5718.005571</td>\n",
              "      <td>-5718.005571</td>\n",
              "      <td>0.0</td>\n",
              "      <td>0.0</td>\n",
              "      <td>0.0</td>\n",
              "      <td>2.612665e+06</td>\n",
              "    </tr>\n",
              "    <tr>\n",
              "      <th>1</th>\n",
              "      <td>2021-07-28 03:00:00</td>\n",
              "      <td>2.619773e+06</td>\n",
              "      <td>2.563079e+06</td>\n",
              "      <td>2.666432e+06</td>\n",
              "      <td>2.619773e+06</td>\n",
              "      <td>2.619773e+06</td>\n",
              "      <td>-5151.018801</td>\n",
              "      <td>-5151.018801</td>\n",
              "      <td>-5151.018801</td>\n",
              "      <td>-5151.018801</td>\n",
              "      <td>-5151.018801</td>\n",
              "      <td>-5151.018801</td>\n",
              "      <td>0.0</td>\n",
              "      <td>0.0</td>\n",
              "      <td>0.0</td>\n",
              "      <td>2.614622e+06</td>\n",
              "    </tr>\n",
              "    <tr>\n",
              "      <th>2</th>\n",
              "      <td>2021-07-28 04:00:00</td>\n",
              "      <td>2.621163e+06</td>\n",
              "      <td>2.573948e+06</td>\n",
              "      <td>2.675178e+06</td>\n",
              "      <td>2.621163e+06</td>\n",
              "      <td>2.621163e+06</td>\n",
              "      <td>1835.324529</td>\n",
              "      <td>1835.324529</td>\n",
              "      <td>1835.324529</td>\n",
              "      <td>1835.324529</td>\n",
              "      <td>1835.324529</td>\n",
              "      <td>1835.324529</td>\n",
              "      <td>0.0</td>\n",
              "      <td>0.0</td>\n",
              "      <td>0.0</td>\n",
              "      <td>2.622998e+06</td>\n",
              "    </tr>\n",
              "    <tr>\n",
              "      <th>3</th>\n",
              "      <td>2021-07-28 05:00:00</td>\n",
              "      <td>2.622553e+06</td>\n",
              "      <td>2.583480e+06</td>\n",
              "      <td>2.688044e+06</td>\n",
              "      <td>2.622553e+06</td>\n",
              "      <td>2.622553e+06</td>\n",
              "      <td>12106.889936</td>\n",
              "      <td>12106.889936</td>\n",
              "      <td>12106.889936</td>\n",
              "      <td>12106.889936</td>\n",
              "      <td>12106.889936</td>\n",
              "      <td>12106.889936</td>\n",
              "      <td>0.0</td>\n",
              "      <td>0.0</td>\n",
              "      <td>0.0</td>\n",
              "      <td>2.634660e+06</td>\n",
              "    </tr>\n",
              "    <tr>\n",
              "      <th>4</th>\n",
              "      <td>2021-07-28 06:00:00</td>\n",
              "      <td>2.623943e+06</td>\n",
              "      <td>2.594246e+06</td>\n",
              "      <td>2.698094e+06</td>\n",
              "      <td>2.623943e+06</td>\n",
              "      <td>2.623943e+06</td>\n",
              "      <td>19786.938128</td>\n",
              "      <td>19786.938128</td>\n",
              "      <td>19786.938128</td>\n",
              "      <td>19786.938128</td>\n",
              "      <td>19786.938128</td>\n",
              "      <td>19786.938128</td>\n",
              "      <td>0.0</td>\n",
              "      <td>0.0</td>\n",
              "      <td>0.0</td>\n",
              "      <td>2.643730e+06</td>\n",
              "    </tr>\n",
              "    <tr>\n",
              "      <th>...</th>\n",
              "      <td>...</td>\n",
              "      <td>...</td>\n",
              "      <td>...</td>\n",
              "      <td>...</td>\n",
              "      <td>...</td>\n",
              "      <td>...</td>\n",
              "      <td>...</td>\n",
              "      <td>...</td>\n",
              "      <td>...</td>\n",
              "      <td>...</td>\n",
              "      <td>...</td>\n",
              "      <td>...</td>\n",
              "      <td>...</td>\n",
              "      <td>...</td>\n",
              "      <td>...</td>\n",
              "      <td>...</td>\n",
              "    </tr>\n",
              "    <tr>\n",
              "      <th>219</th>\n",
              "      <td>2021-08-06 05:00:00</td>\n",
              "      <td>3.137580e+06</td>\n",
              "      <td>3.092452e+06</td>\n",
              "      <td>3.210523e+06</td>\n",
              "      <td>3.109153e+06</td>\n",
              "      <td>3.167209e+06</td>\n",
              "      <td>12106.889936</td>\n",
              "      <td>12106.889936</td>\n",
              "      <td>12106.889936</td>\n",
              "      <td>12106.889936</td>\n",
              "      <td>12106.889936</td>\n",
              "      <td>12106.889936</td>\n",
              "      <td>0.0</td>\n",
              "      <td>0.0</td>\n",
              "      <td>0.0</td>\n",
              "      <td>3.149687e+06</td>\n",
              "    </tr>\n",
              "    <tr>\n",
              "      <th>220</th>\n",
              "      <td>2021-08-06 06:00:00</td>\n",
              "      <td>3.141288e+06</td>\n",
              "      <td>3.098062e+06</td>\n",
              "      <td>3.221832e+06</td>\n",
              "      <td>3.110099e+06</td>\n",
              "      <td>3.173931e+06</td>\n",
              "      <td>19786.938128</td>\n",
              "      <td>19786.938128</td>\n",
              "      <td>19786.938128</td>\n",
              "      <td>19786.938128</td>\n",
              "      <td>19786.938128</td>\n",
              "      <td>19786.938128</td>\n",
              "      <td>0.0</td>\n",
              "      <td>0.0</td>\n",
              "      <td>0.0</td>\n",
              "      <td>3.161074e+06</td>\n",
              "    </tr>\n",
              "    <tr>\n",
              "      <th>221</th>\n",
              "      <td>2021-08-06 07:00:00</td>\n",
              "      <td>3.144995e+06</td>\n",
              "      <td>3.102370e+06</td>\n",
              "      <td>3.233642e+06</td>\n",
              "      <td>3.111717e+06</td>\n",
              "      <td>3.180776e+06</td>\n",
              "      <td>21336.114395</td>\n",
              "      <td>21336.114395</td>\n",
              "      <td>21336.114395</td>\n",
              "      <td>21336.114395</td>\n",
              "      <td>21336.114395</td>\n",
              "      <td>21336.114395</td>\n",
              "      <td>0.0</td>\n",
              "      <td>0.0</td>\n",
              "      <td>0.0</td>\n",
              "      <td>3.166331e+06</td>\n",
              "    </tr>\n",
              "    <tr>\n",
              "      <th>222</th>\n",
              "      <td>2021-08-06 08:00:00</td>\n",
              "      <td>3.148703e+06</td>\n",
              "      <td>3.099411e+06</td>\n",
              "      <td>3.228797e+06</td>\n",
              "      <td>3.112607e+06</td>\n",
              "      <td>3.187150e+06</td>\n",
              "      <td>18170.158452</td>\n",
              "      <td>18170.158452</td>\n",
              "      <td>18170.158452</td>\n",
              "      <td>18170.158452</td>\n",
              "      <td>18170.158452</td>\n",
              "      <td>18170.158452</td>\n",
              "      <td>0.0</td>\n",
              "      <td>0.0</td>\n",
              "      <td>0.0</td>\n",
              "      <td>3.166873e+06</td>\n",
              "    </tr>\n",
              "    <tr>\n",
              "      <th>223</th>\n",
              "      <td>2021-08-06 09:00:00</td>\n",
              "      <td>3.152410e+06</td>\n",
              "      <td>3.101656e+06</td>\n",
              "      <td>3.233786e+06</td>\n",
              "      <td>3.113123e+06</td>\n",
              "      <td>3.192926e+06</td>\n",
              "      <td>14535.717023</td>\n",
              "      <td>14535.717023</td>\n",
              "      <td>14535.717023</td>\n",
              "      <td>14535.717023</td>\n",
              "      <td>14535.717023</td>\n",
              "      <td>14535.717023</td>\n",
              "      <td>0.0</td>\n",
              "      <td>0.0</td>\n",
              "      <td>0.0</td>\n",
              "      <td>3.166946e+06</td>\n",
              "    </tr>\n",
              "  </tbody>\n",
              "</table>\n",
              "<p>224 rows × 16 columns</p>\n",
              "</div>"
            ],
            "text/plain": [
              "                     ds         trend  ...  multiplicative_terms_upper          yhat\n",
              "0   2021-07-28 02:00:00  2.618383e+06  ...                         0.0  2.612665e+06\n",
              "1   2021-07-28 03:00:00  2.619773e+06  ...                         0.0  2.614622e+06\n",
              "2   2021-07-28 04:00:00  2.621163e+06  ...                         0.0  2.622998e+06\n",
              "3   2021-07-28 05:00:00  2.622553e+06  ...                         0.0  2.634660e+06\n",
              "4   2021-07-28 06:00:00  2.623943e+06  ...                         0.0  2.643730e+06\n",
              "..                  ...           ...  ...                         ...           ...\n",
              "219 2021-08-06 05:00:00  3.137580e+06  ...                         0.0  3.149687e+06\n",
              "220 2021-08-06 06:00:00  3.141288e+06  ...                         0.0  3.161074e+06\n",
              "221 2021-08-06 07:00:00  3.144995e+06  ...                         0.0  3.166331e+06\n",
              "222 2021-08-06 08:00:00  3.148703e+06  ...                         0.0  3.166873e+06\n",
              "223 2021-08-06 09:00:00  3.152410e+06  ...                         0.0  3.166946e+06\n",
              "\n",
              "[224 rows x 16 columns]"
            ]
          },
          "metadata": {
            "tags": []
          },
          "execution_count": 13
        }
      ]
    },
    {
      "cell_type": "code",
      "metadata": {
        "id": "6iLnohoIvy-h"
      },
      "source": [
        ""
      ],
      "execution_count": null,
      "outputs": []
    }
  ]
}