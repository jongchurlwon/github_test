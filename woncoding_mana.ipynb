{
  "nbformat": 4,
  "nbformat_minor": 0,
  "metadata": {
    "colab": {
      "name": "woncoding_mana.ipynb",
      "provenance": [],
      "authorship_tag": "ABX9TyMfJK9Yltr/nfkp8tqhP7b8",
      "include_colab_link": true
    },
    "kernelspec": {
      "name": "python3",
      "display_name": "Python 3"
    },
    "language_info": {
      "name": "python"
    }
  },
  "cells": [
    {
      "cell_type": "markdown",
      "metadata": {
        "id": "view-in-github",
        "colab_type": "text"
      },
      "source": [
        "<a href=\"https://colab.research.google.com/github/jongchurlwon/github_test/blob/main/woncoding_mana.ipynb\" target=\"_parent\"><img src=\"https://colab.research.google.com/assets/colab-badge.svg\" alt=\"Open In Colab\"/></a>"
      ]
    },
    {
      "cell_type": "code",
      "metadata": {
        "colab": {
          "base_uri": "https://localhost:8080/"
        },
        "id": "g3a_3ECaNzWP",
        "outputId": "5c54b216-72af-4858-c7f7-1f4d410b1737"
      },
      "source": [
        "!pip install pyupbit\n"
      ],
      "execution_count": 1,
      "outputs": [
        {
          "output_type": "stream",
          "text": [
            "Collecting pyupbit\n",
            "  Downloading pyupbit-0.2.19-py3-none-any.whl (19 kB)\n",
            "Requirement already satisfied: requests in /usr/local/lib/python3.7/dist-packages (from pyupbit) (2.23.0)\n",
            "Requirement already satisfied: pandas in /usr/local/lib/python3.7/dist-packages (from pyupbit) (1.1.5)\n",
            "Collecting pyjwt>=2.0.0\n",
            "  Downloading PyJWT-2.1.0-py3-none-any.whl (16 kB)\n",
            "Collecting websockets\n",
            "  Downloading websockets-9.1-cp37-cp37m-manylinux2010_x86_64.whl (103 kB)\n",
            "\u001b[K     |████████████████████████████████| 103 kB 7.5 MB/s \n",
            "\u001b[?25hRequirement already satisfied: numpy>=1.15.4 in /usr/local/lib/python3.7/dist-packages (from pandas->pyupbit) (1.19.5)\n",
            "Requirement already satisfied: python-dateutil>=2.7.3 in /usr/local/lib/python3.7/dist-packages (from pandas->pyupbit) (2.8.1)\n",
            "Requirement already satisfied: pytz>=2017.2 in /usr/local/lib/python3.7/dist-packages (from pandas->pyupbit) (2018.9)\n",
            "Requirement already satisfied: six>=1.5 in /usr/local/lib/python3.7/dist-packages (from python-dateutil>=2.7.3->pandas->pyupbit) (1.15.0)\n",
            "Requirement already satisfied: idna<3,>=2.5 in /usr/local/lib/python3.7/dist-packages (from requests->pyupbit) (2.10)\n",
            "Requirement already satisfied: certifi>=2017.4.17 in /usr/local/lib/python3.7/dist-packages (from requests->pyupbit) (2021.5.30)\n",
            "Requirement already satisfied: urllib3!=1.25.0,!=1.25.1,<1.26,>=1.21.1 in /usr/local/lib/python3.7/dist-packages (from requests->pyupbit) (1.24.3)\n",
            "Requirement already satisfied: chardet<4,>=3.0.2 in /usr/local/lib/python3.7/dist-packages (from requests->pyupbit) (3.0.4)\n",
            "Installing collected packages: websockets, pyjwt, pyupbit\n",
            "Successfully installed pyjwt-2.1.0 pyupbit-0.2.19 websockets-9.1\n"
          ],
          "name": "stdout"
        }
      ]
    },
    {
      "cell_type": "code",
      "metadata": {
        "id": "qEaYa23sOlSG"
      },
      "source": [
        "import pyupbit"
      ],
      "execution_count": 2,
      "outputs": []
    },
    {
      "cell_type": "code",
      "metadata": {
        "colab": {
          "base_uri": "https://localhost:8080/",
          "height": 419
        },
        "id": "DHQ-ni6FOoKO",
        "outputId": "f645fc9b-e5c1-4925-be3d-320dd60020d0"
      },
      "source": [
        "#BTC 최근 200시간의 데이터 불러옴\n",
        "df = pyupbit.get_ohlcv(\"KRW-MANA\", interval=\"minute60\")\n",
        "df"
      ],
      "execution_count": 3,
      "outputs": [
        {
          "output_type": "execute_result",
          "data": {
            "text/html": [
              "<div>\n",
              "<style scoped>\n",
              "    .dataframe tbody tr th:only-of-type {\n",
              "        vertical-align: middle;\n",
              "    }\n",
              "\n",
              "    .dataframe tbody tr th {\n",
              "        vertical-align: top;\n",
              "    }\n",
              "\n",
              "    .dataframe thead th {\n",
              "        text-align: right;\n",
              "    }\n",
              "</style>\n",
              "<table border=\"1\" class=\"dataframe\">\n",
              "  <thead>\n",
              "    <tr style=\"text-align: right;\">\n",
              "      <th></th>\n",
              "      <th>open</th>\n",
              "      <th>high</th>\n",
              "      <th>low</th>\n",
              "      <th>close</th>\n",
              "      <th>volume</th>\n",
              "      <th>value</th>\n",
              "    </tr>\n",
              "  </thead>\n",
              "  <tbody>\n",
              "    <tr>\n",
              "      <th>2021-07-28 04:00:00</th>\n",
              "      <td>785.0</td>\n",
              "      <td>790.0</td>\n",
              "      <td>781.0</td>\n",
              "      <td>784.0</td>\n",
              "      <td>2.012479e+05</td>\n",
              "      <td>1.579841e+08</td>\n",
              "    </tr>\n",
              "    <tr>\n",
              "      <th>2021-07-28 05:00:00</th>\n",
              "      <td>786.0</td>\n",
              "      <td>799.0</td>\n",
              "      <td>784.0</td>\n",
              "      <td>795.0</td>\n",
              "      <td>3.191253e+05</td>\n",
              "      <td>2.524359e+08</td>\n",
              "    </tr>\n",
              "    <tr>\n",
              "      <th>2021-07-28 06:00:00</th>\n",
              "      <td>795.0</td>\n",
              "      <td>805.0</td>\n",
              "      <td>794.0</td>\n",
              "      <td>798.0</td>\n",
              "      <td>4.897800e+05</td>\n",
              "      <td>3.913730e+08</td>\n",
              "    </tr>\n",
              "    <tr>\n",
              "      <th>2021-07-28 07:00:00</th>\n",
              "      <td>797.0</td>\n",
              "      <td>806.0</td>\n",
              "      <td>793.0</td>\n",
              "      <td>802.0</td>\n",
              "      <td>9.513519e+05</td>\n",
              "      <td>7.615764e+08</td>\n",
              "    </tr>\n",
              "    <tr>\n",
              "      <th>2021-07-28 08:00:00</th>\n",
              "      <td>802.0</td>\n",
              "      <td>805.0</td>\n",
              "      <td>797.0</td>\n",
              "      <td>804.0</td>\n",
              "      <td>1.268852e+06</td>\n",
              "      <td>1.016801e+09</td>\n",
              "    </tr>\n",
              "    <tr>\n",
              "      <th>...</th>\n",
              "      <td>...</td>\n",
              "      <td>...</td>\n",
              "      <td>...</td>\n",
              "      <td>...</td>\n",
              "      <td>...</td>\n",
              "      <td>...</td>\n",
              "    </tr>\n",
              "    <tr>\n",
              "      <th>2021-08-05 07:00:00</th>\n",
              "      <td>834.0</td>\n",
              "      <td>839.0</td>\n",
              "      <td>829.0</td>\n",
              "      <td>833.0</td>\n",
              "      <td>1.452921e+06</td>\n",
              "      <td>1.211980e+09</td>\n",
              "    </tr>\n",
              "    <tr>\n",
              "      <th>2021-08-05 08:00:00</th>\n",
              "      <td>834.0</td>\n",
              "      <td>840.0</td>\n",
              "      <td>825.0</td>\n",
              "      <td>837.0</td>\n",
              "      <td>1.194316e+06</td>\n",
              "      <td>9.962402e+08</td>\n",
              "    </tr>\n",
              "    <tr>\n",
              "      <th>2021-08-05 09:00:00</th>\n",
              "      <td>837.0</td>\n",
              "      <td>854.0</td>\n",
              "      <td>827.0</td>\n",
              "      <td>834.0</td>\n",
              "      <td>4.492425e+06</td>\n",
              "      <td>3.785611e+09</td>\n",
              "    </tr>\n",
              "    <tr>\n",
              "      <th>2021-08-05 10:00:00</th>\n",
              "      <td>834.0</td>\n",
              "      <td>837.0</td>\n",
              "      <td>819.0</td>\n",
              "      <td>828.0</td>\n",
              "      <td>2.376439e+06</td>\n",
              "      <td>1.962495e+09</td>\n",
              "    </tr>\n",
              "    <tr>\n",
              "      <th>2021-08-05 11:00:00</th>\n",
              "      <td>828.0</td>\n",
              "      <td>835.0</td>\n",
              "      <td>826.0</td>\n",
              "      <td>827.0</td>\n",
              "      <td>7.824498e+05</td>\n",
              "      <td>6.498688e+08</td>\n",
              "    </tr>\n",
              "  </tbody>\n",
              "</table>\n",
              "<p>200 rows × 6 columns</p>\n",
              "</div>"
            ],
            "text/plain": [
              "                      open   high    low  close        volume         value\n",
              "2021-07-28 04:00:00  785.0  790.0  781.0  784.0  2.012479e+05  1.579841e+08\n",
              "2021-07-28 05:00:00  786.0  799.0  784.0  795.0  3.191253e+05  2.524359e+08\n",
              "2021-07-28 06:00:00  795.0  805.0  794.0  798.0  4.897800e+05  3.913730e+08\n",
              "2021-07-28 07:00:00  797.0  806.0  793.0  802.0  9.513519e+05  7.615764e+08\n",
              "2021-07-28 08:00:00  802.0  805.0  797.0  804.0  1.268852e+06  1.016801e+09\n",
              "...                    ...    ...    ...    ...           ...           ...\n",
              "2021-08-05 07:00:00  834.0  839.0  829.0  833.0  1.452921e+06  1.211980e+09\n",
              "2021-08-05 08:00:00  834.0  840.0  825.0  837.0  1.194316e+06  9.962402e+08\n",
              "2021-08-05 09:00:00  837.0  854.0  827.0  834.0  4.492425e+06  3.785611e+09\n",
              "2021-08-05 10:00:00  834.0  837.0  819.0  828.0  2.376439e+06  1.962495e+09\n",
              "2021-08-05 11:00:00  828.0  835.0  826.0  827.0  7.824498e+05  6.498688e+08\n",
              "\n",
              "[200 rows x 6 columns]"
            ]
          },
          "metadata": {
            "tags": []
          },
          "execution_count": 3
        }
      ]
    },
    {
      "cell_type": "code",
      "metadata": {
        "colab": {
          "base_uri": "https://localhost:8080/",
          "height": 419
        },
        "id": "fJGv5ToeOt-O",
        "outputId": "c281bb98-6f33-4580-a543-1de147fc7a3e"
      },
      "source": [
        "#시간(ds)와 종가(y)값만 남김\n",
        "df = df.reset_index()\n",
        "df['ds'] = df['index']\n",
        "df['y'] = df['close']\n",
        "data = df[['ds','y']]\n",
        "data"
      ],
      "execution_count": 4,
      "outputs": [
        {
          "output_type": "execute_result",
          "data": {
            "text/html": [
              "<div>\n",
              "<style scoped>\n",
              "    .dataframe tbody tr th:only-of-type {\n",
              "        vertical-align: middle;\n",
              "    }\n",
              "\n",
              "    .dataframe tbody tr th {\n",
              "        vertical-align: top;\n",
              "    }\n",
              "\n",
              "    .dataframe thead th {\n",
              "        text-align: right;\n",
              "    }\n",
              "</style>\n",
              "<table border=\"1\" class=\"dataframe\">\n",
              "  <thead>\n",
              "    <tr style=\"text-align: right;\">\n",
              "      <th></th>\n",
              "      <th>ds</th>\n",
              "      <th>y</th>\n",
              "    </tr>\n",
              "  </thead>\n",
              "  <tbody>\n",
              "    <tr>\n",
              "      <th>0</th>\n",
              "      <td>2021-07-28 04:00:00</td>\n",
              "      <td>784.0</td>\n",
              "    </tr>\n",
              "    <tr>\n",
              "      <th>1</th>\n",
              "      <td>2021-07-28 05:00:00</td>\n",
              "      <td>795.0</td>\n",
              "    </tr>\n",
              "    <tr>\n",
              "      <th>2</th>\n",
              "      <td>2021-07-28 06:00:00</td>\n",
              "      <td>798.0</td>\n",
              "    </tr>\n",
              "    <tr>\n",
              "      <th>3</th>\n",
              "      <td>2021-07-28 07:00:00</td>\n",
              "      <td>802.0</td>\n",
              "    </tr>\n",
              "    <tr>\n",
              "      <th>4</th>\n",
              "      <td>2021-07-28 08:00:00</td>\n",
              "      <td>804.0</td>\n",
              "    </tr>\n",
              "    <tr>\n",
              "      <th>...</th>\n",
              "      <td>...</td>\n",
              "      <td>...</td>\n",
              "    </tr>\n",
              "    <tr>\n",
              "      <th>195</th>\n",
              "      <td>2021-08-05 07:00:00</td>\n",
              "      <td>833.0</td>\n",
              "    </tr>\n",
              "    <tr>\n",
              "      <th>196</th>\n",
              "      <td>2021-08-05 08:00:00</td>\n",
              "      <td>837.0</td>\n",
              "    </tr>\n",
              "    <tr>\n",
              "      <th>197</th>\n",
              "      <td>2021-08-05 09:00:00</td>\n",
              "      <td>834.0</td>\n",
              "    </tr>\n",
              "    <tr>\n",
              "      <th>198</th>\n",
              "      <td>2021-08-05 10:00:00</td>\n",
              "      <td>828.0</td>\n",
              "    </tr>\n",
              "    <tr>\n",
              "      <th>199</th>\n",
              "      <td>2021-08-05 11:00:00</td>\n",
              "      <td>827.0</td>\n",
              "    </tr>\n",
              "  </tbody>\n",
              "</table>\n",
              "<p>200 rows × 2 columns</p>\n",
              "</div>"
            ],
            "text/plain": [
              "                     ds      y\n",
              "0   2021-07-28 04:00:00  784.0\n",
              "1   2021-07-28 05:00:00  795.0\n",
              "2   2021-07-28 06:00:00  798.0\n",
              "3   2021-07-28 07:00:00  802.0\n",
              "4   2021-07-28 08:00:00  804.0\n",
              "..                  ...    ...\n",
              "195 2021-08-05 07:00:00  833.0\n",
              "196 2021-08-05 08:00:00  837.0\n",
              "197 2021-08-05 09:00:00  834.0\n",
              "198 2021-08-05 10:00:00  828.0\n",
              "199 2021-08-05 11:00:00  827.0\n",
              "\n",
              "[200 rows x 2 columns]"
            ]
          },
          "metadata": {
            "tags": []
          },
          "execution_count": 4
        }
      ]
    },
    {
      "cell_type": "code",
      "metadata": {
        "id": "i7XS_KDCOwsG"
      },
      "source": [
        "#prophet 불러옴\n",
        "from fbprophet import Prophet"
      ],
      "execution_count": 5,
      "outputs": []
    },
    {
      "cell_type": "code",
      "metadata": {
        "colab": {
          "base_uri": "https://localhost:8080/"
        },
        "id": "nfG0chQROzt-",
        "outputId": "d66a70af-5a9e-4fa4-bdd1-d07c2517f9e9"
      },
      "source": [
        "#학습\n",
        "model = Prophet()\n",
        "model.fit(data)"
      ],
      "execution_count": 6,
      "outputs": [
        {
          "output_type": "stream",
          "text": [
            "INFO:numexpr.utils:NumExpr defaulting to 2 threads.\n",
            "INFO:fbprophet:Disabling yearly seasonality. Run prophet with yearly_seasonality=True to override this.\n",
            "INFO:fbprophet:Disabling weekly seasonality. Run prophet with weekly_seasonality=True to override this.\n"
          ],
          "name": "stderr"
        },
        {
          "output_type": "execute_result",
          "data": {
            "text/plain": [
              "<fbprophet.forecaster.Prophet at 0x7fe8eded7410>"
            ]
          },
          "metadata": {
            "tags": []
          },
          "execution_count": 6
        }
      ]
    },
    {
      "cell_type": "code",
      "metadata": {
        "id": "V9eQeX0LO192"
      },
      "source": [
        "#24시간 미래 예측\n",
        "future = model.make_future_dataframe(periods=24, freq='H')\n",
        "forecast = model.predict(future)"
      ],
      "execution_count": 7,
      "outputs": []
    },
    {
      "cell_type": "code",
      "metadata": {
        "colab": {
          "base_uri": "https://localhost:8080/",
          "height": 441
        },
        "id": "xHVLqfwwO5cV",
        "outputId": "2c115b70-9ad9-40b4-b03d-d7e460e77675"
      },
      "source": [
        "#그래프1\n",
        "fig1 = model.plot(forecast)"
      ],
      "execution_count": 8,
      "outputs": [
        {
          "output_type": "display_data",
          "data": {
            "image/png": "[encoded data removed]",
            "text/plain": [
              "<Figure size 720x432 with 1 Axes>"
            ]
          },
          "metadata": {
            "tags": []
          }
        }
      ]
    },
    {
      "cell_type": "code",
      "metadata": {
        "colab": {
          "base_uri": "https://localhost:8080/",
          "height": 441
        },
        "id": "Mwrujf5cO9E2",
        "outputId": "587dbbe1-1d8f-4277-caf1-91730d880a00"
      },
      "source": [
        "#그래프2\n",
        "fig2 = model.plot_components(forecast)"
      ],
      "execution_count": 9,
      "outputs": [
        {
          "output_type": "display_data",
          "data": {
            "image/png": "[encoded data removed]",
            "text/plain": [
              "<Figure size 648x432 with 2 Axes>"
            ]
          },
          "metadata": {
            "tags": []
          }
        }
      ]
    },
    {
      "cell_type": "code",
      "metadata": {
        "colab": {
          "base_uri": "https://localhost:8080/"
        },
        "id": "1mwnwdodO_z2",
        "outputId": "e0acb79e-a267-4b44-9fe5-8aba226b959a"
      },
      "source": [
        "#매수 시점의 가격\n",
        "nowValue = pyupbit.get_current_price(\"KRW-MANA\")\n",
        "nowValue"
      ],
      "execution_count": 11,
      "outputs": [
        {
          "output_type": "execute_result",
          "data": {
            "text/plain": [
              "830.0"
            ]
          },
          "metadata": {
            "tags": []
          },
          "execution_count": 11
        }
      ]
    },
    {
      "cell_type": "code",
      "metadata": {
        "colab": {
          "base_uri": "https://localhost:8080/"
        },
        "id": "OtLSlCg1PCKO",
        "outputId": "f761798f-7992-4916-af72-b8de12abcded"
      },
      "source": [
        "#종가의 가격을 구함\n",
        "\n",
        "#현재 시간이 자정 이전\n",
        "closeDf = forecast[forecast['ds'] == forecast.iloc[-1]['ds'].replace(hour=9)]\n",
        "\n",
        "#현재 시간이 자정 이후\n",
        "if len(closeDf) == 0:\n",
        "  closeDf = forecast[forecast['ds'] == data.iloc[-1]['ds'].replace(hour=9)]\n",
        "\n",
        "#어쨋든 당일 종가\n",
        "closeValue = closeDf['yhat'].values[0]\n",
        "closeValue"
      ],
      "execution_count": 13,
      "outputs": [
        {
          "output_type": "execute_result",
          "data": {
            "text/plain": [
              "851.1265709484577"
            ]
          },
          "metadata": {
            "tags": []
          },
          "execution_count": 13
        }
      ]
    },
    {
      "cell_type": "code",
      "metadata": {
        "colab": {
          "base_uri": "https://localhost:8080/"
        },
        "id": "CFliwSgIPLJH",
        "outputId": "b4b9b374-dda9-4d62-c683-9c814dc3bdf6"
      },
      "source": [
        "#구체적인 가격\n",
        "print(\"현재 시점 가격: \", nowValue)\n",
        "print(\"종가의 가격: \", closeValue)"
      ],
      "execution_count": 14,
      "outputs": [
        {
          "output_type": "stream",
          "text": [
            "현재 시점 가격:  830.0\n",
            "종가의 가격:  851.1265709484577\n"
          ],
          "name": "stdout"
        }
      ]
    },
    {
      "cell_type": "code",
      "metadata": {
        "colab": {
          "base_uri": "https://localhost:8080/",
          "height": 779
        },
        "id": "lEHDf1FSPSRO",
        "outputId": "ba890c66-32a3-48bd-8ebd-d71c79a1e48f"
      },
      "source": [
        "forecast"
      ],
      "execution_count": 15,
      "outputs": [
        {
          "output_type": "execute_result",
          "data": {
            "text/html": [
              "<div>\n",
              "<style scoped>\n",
              "    .dataframe tbody tr th:only-of-type {\n",
              "        vertical-align: middle;\n",
              "    }\n",
              "\n",
              "    .dataframe tbody tr th {\n",
              "        vertical-align: top;\n",
              "    }\n",
              "\n",
              "    .dataframe thead th {\n",
              "        text-align: right;\n",
              "    }\n",
              "</style>\n",
              "<table border=\"1\" class=\"dataframe\">\n",
              "  <thead>\n",
              "    <tr style=\"text-align: right;\">\n",
              "      <th></th>\n",
              "      <th>ds</th>\n",
              "      <th>trend</th>\n",
              "      <th>yhat_lower</th>\n",
              "      <th>yhat_upper</th>\n",
              "      <th>trend_lower</th>\n",
              "      <th>trend_upper</th>\n",
              "      <th>additive_terms</th>\n",
              "      <th>additive_terms_lower</th>\n",
              "      <th>additive_terms_upper</th>\n",
              "      <th>daily</th>\n",
              "      <th>daily_lower</th>\n",
              "      <th>daily_upper</th>\n",
              "      <th>multiplicative_terms</th>\n",
              "      <th>multiplicative_terms_lower</th>\n",
              "      <th>multiplicative_terms_upper</th>\n",
              "      <th>yhat</th>\n",
              "    </tr>\n",
              "  </thead>\n",
              "  <tbody>\n",
              "    <tr>\n",
              "      <th>0</th>\n",
              "      <td>2021-07-28 04:00:00</td>\n",
              "      <td>798.385877</td>\n",
              "      <td>786.665947</td>\n",
              "      <td>808.851273</td>\n",
              "      <td>798.385877</td>\n",
              "      <td>798.385877</td>\n",
              "      <td>-0.653643</td>\n",
              "      <td>-0.653643</td>\n",
              "      <td>-0.653643</td>\n",
              "      <td>-0.653643</td>\n",
              "      <td>-0.653643</td>\n",
              "      <td>-0.653643</td>\n",
              "      <td>0.0</td>\n",
              "      <td>0.0</td>\n",
              "      <td>0.0</td>\n",
              "      <td>797.732234</td>\n",
              "    </tr>\n",
              "    <tr>\n",
              "      <th>1</th>\n",
              "      <td>2021-07-28 05:00:00</td>\n",
              "      <td>798.277146</td>\n",
              "      <td>788.663141</td>\n",
              "      <td>810.499982</td>\n",
              "      <td>798.277146</td>\n",
              "      <td>798.277146</td>\n",
              "      <td>1.178659</td>\n",
              "      <td>1.178659</td>\n",
              "      <td>1.178659</td>\n",
              "      <td>1.178659</td>\n",
              "      <td>1.178659</td>\n",
              "      <td>1.178659</td>\n",
              "      <td>0.0</td>\n",
              "      <td>0.0</td>\n",
              "      <td>0.0</td>\n",
              "      <td>799.455805</td>\n",
              "    </tr>\n",
              "    <tr>\n",
              "      <th>2</th>\n",
              "      <td>2021-07-28 06:00:00</td>\n",
              "      <td>798.168415</td>\n",
              "      <td>790.617561</td>\n",
              "      <td>811.672351</td>\n",
              "      <td>798.168415</td>\n",
              "      <td>798.168415</td>\n",
              "      <td>2.790065</td>\n",
              "      <td>2.790065</td>\n",
              "      <td>2.790065</td>\n",
              "      <td>2.790065</td>\n",
              "      <td>2.790065</td>\n",
              "      <td>2.790065</td>\n",
              "      <td>0.0</td>\n",
              "      <td>0.0</td>\n",
              "      <td>0.0</td>\n",
              "      <td>800.958479</td>\n",
              "    </tr>\n",
              "    <tr>\n",
              "      <th>3</th>\n",
              "      <td>2021-07-28 07:00:00</td>\n",
              "      <td>798.059684</td>\n",
              "      <td>791.498434</td>\n",
              "      <td>812.874782</td>\n",
              "      <td>798.059684</td>\n",
              "      <td>798.059684</td>\n",
              "      <td>3.693308</td>\n",
              "      <td>3.693308</td>\n",
              "      <td>3.693308</td>\n",
              "      <td>3.693308</td>\n",
              "      <td>3.693308</td>\n",
              "      <td>3.693308</td>\n",
              "      <td>0.0</td>\n",
              "      <td>0.0</td>\n",
              "      <td>0.0</td>\n",
              "      <td>801.752992</td>\n",
              "    </tr>\n",
              "    <tr>\n",
              "      <th>4</th>\n",
              "      <td>2021-07-28 08:00:00</td>\n",
              "      <td>797.950953</td>\n",
              "      <td>790.713778</td>\n",
              "      <td>811.842462</td>\n",
              "      <td>797.950953</td>\n",
              "      <td>797.950953</td>\n",
              "      <td>3.828752</td>\n",
              "      <td>3.828752</td>\n",
              "      <td>3.828752</td>\n",
              "      <td>3.828752</td>\n",
              "      <td>3.828752</td>\n",
              "      <td>3.828752</td>\n",
              "      <td>0.0</td>\n",
              "      <td>0.0</td>\n",
              "      <td>0.0</td>\n",
              "      <td>801.779705</td>\n",
              "    </tr>\n",
              "    <tr>\n",
              "      <th>...</th>\n",
              "      <td>...</td>\n",
              "      <td>...</td>\n",
              "      <td>...</td>\n",
              "      <td>...</td>\n",
              "      <td>...</td>\n",
              "      <td>...</td>\n",
              "      <td>...</td>\n",
              "      <td>...</td>\n",
              "      <td>...</td>\n",
              "      <td>...</td>\n",
              "      <td>...</td>\n",
              "      <td>...</td>\n",
              "      <td>...</td>\n",
              "      <td>...</td>\n",
              "      <td>...</td>\n",
              "      <td>...</td>\n",
              "    </tr>\n",
              "    <tr>\n",
              "      <th>219</th>\n",
              "      <td>2021-08-06 07:00:00</td>\n",
              "      <td>846.220147</td>\n",
              "      <td>837.422349</td>\n",
              "      <td>862.459766</td>\n",
              "      <td>839.310541</td>\n",
              "      <td>852.775466</td>\n",
              "      <td>3.693308</td>\n",
              "      <td>3.693308</td>\n",
              "      <td>3.693308</td>\n",
              "      <td>3.693308</td>\n",
              "      <td>3.693308</td>\n",
              "      <td>3.693308</td>\n",
              "      <td>0.0</td>\n",
              "      <td>0.0</td>\n",
              "      <td>0.0</td>\n",
              "      <td>849.913455</td>\n",
              "    </tr>\n",
              "    <tr>\n",
              "      <th>220</th>\n",
              "      <td>2021-08-06 08:00:00</td>\n",
              "      <td>846.978135</td>\n",
              "      <td>837.002919</td>\n",
              "      <td>864.043565</td>\n",
              "      <td>839.477823</td>\n",
              "      <td>854.096738</td>\n",
              "      <td>3.828752</td>\n",
              "      <td>3.828752</td>\n",
              "      <td>3.828752</td>\n",
              "      <td>3.828752</td>\n",
              "      <td>3.828752</td>\n",
              "      <td>3.828752</td>\n",
              "      <td>0.0</td>\n",
              "      <td>0.0</td>\n",
              "      <td>0.0</td>\n",
              "      <td>850.806887</td>\n",
              "    </tr>\n",
              "    <tr>\n",
              "      <th>221</th>\n",
              "      <td>2021-08-06 09:00:00</td>\n",
              "      <td>847.736123</td>\n",
              "      <td>837.035465</td>\n",
              "      <td>864.057807</td>\n",
              "      <td>839.777071</td>\n",
              "      <td>855.424611</td>\n",
              "      <td>3.390448</td>\n",
              "      <td>3.390448</td>\n",
              "      <td>3.390448</td>\n",
              "      <td>3.390448</td>\n",
              "      <td>3.390448</td>\n",
              "      <td>3.390448</td>\n",
              "      <td>0.0</td>\n",
              "      <td>0.0</td>\n",
              "      <td>0.0</td>\n",
              "      <td>851.126571</td>\n",
              "    </tr>\n",
              "    <tr>\n",
              "      <th>222</th>\n",
              "      <td>2021-08-06 10:00:00</td>\n",
              "      <td>848.494111</td>\n",
              "      <td>837.291660</td>\n",
              "      <td>865.074369</td>\n",
              "      <td>839.939072</td>\n",
              "      <td>856.817180</td>\n",
              "      <td>2.530221</td>\n",
              "      <td>2.530221</td>\n",
              "      <td>2.530221</td>\n",
              "      <td>2.530221</td>\n",
              "      <td>2.530221</td>\n",
              "      <td>2.530221</td>\n",
              "      <td>0.0</td>\n",
              "      <td>0.0</td>\n",
              "      <td>0.0</td>\n",
              "      <td>851.024332</td>\n",
              "    </tr>\n",
              "    <tr>\n",
              "      <th>223</th>\n",
              "      <td>2021-08-06 11:00:00</td>\n",
              "      <td>849.252099</td>\n",
              "      <td>835.235267</td>\n",
              "      <td>865.055149</td>\n",
              "      <td>840.176308</td>\n",
              "      <td>858.285600</td>\n",
              "      <td>1.298547</td>\n",
              "      <td>1.298547</td>\n",
              "      <td>1.298547</td>\n",
              "      <td>1.298547</td>\n",
              "      <td>1.298547</td>\n",
              "      <td>1.298547</td>\n",
              "      <td>0.0</td>\n",
              "      <td>0.0</td>\n",
              "      <td>0.0</td>\n",
              "      <td>850.550647</td>\n",
              "    </tr>\n",
              "  </tbody>\n",
              "</table>\n",
              "<p>224 rows × 16 columns</p>\n",
              "</div>"
            ],
            "text/plain": [
              "                     ds       trend  ...  multiplicative_terms_upper        yhat\n",
              "0   2021-07-28 04:00:00  798.385877  ...                         0.0  797.732234\n",
              "1   2021-07-28 05:00:00  798.277146  ...                         0.0  799.455805\n",
              "2   2021-07-28 06:00:00  798.168415  ...                         0.0  800.958479\n",
              "3   2021-07-28 07:00:00  798.059684  ...                         0.0  801.752992\n",
              "4   2021-07-28 08:00:00  797.950953  ...                         0.0  801.779705\n",
              "..                  ...         ...  ...                         ...         ...\n",
              "219 2021-08-06 07:00:00  846.220147  ...                         0.0  849.913455\n",
              "220 2021-08-06 08:00:00  846.978135  ...                         0.0  850.806887\n",
              "221 2021-08-06 09:00:00  847.736123  ...                         0.0  851.126571\n",
              "222 2021-08-06 10:00:00  848.494111  ...                         0.0  851.024332\n",
              "223 2021-08-06 11:00:00  849.252099  ...                         0.0  850.550647\n",
              "\n",
              "[224 rows x 16 columns]"
            ]
          },
          "metadata": {
            "tags": []
          },
          "execution_count": 15
        }
      ]
    },
    {
      "cell_type": "code",
      "metadata": {
        "id": "TiCqcNCNPUaW"
      },
      "source": [
        ""
      ],
      "execution_count": null,
      "outputs": []
    }
  ]
}