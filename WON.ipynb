{
  "nbformat": 4,
  "nbformat_minor": 0,
  "metadata": {
    "colab": {
      "name": "Untitled0.ipynb",
      "provenance": [],
      "collapsed_sections": [],
      "authorship_tag": "ABX9TyPI/na+M2HmI42DjRfpcKpG",
      "include_colab_link": true
    },
    "kernelspec": {
      "name": "python3",
      "display_name": "Python 3"
    },
    "language_info": {
      "name": "python"
    }
  },
  "cells": [
    {
      "cell_type": "markdown",
      "metadata": {
        "id": "view-in-github",
        "colab_type": "text"
      },
      "source": [
        "<a href=\"https://colab.research.google.com/github/jongchurlwon/github_test/blob/main/WON.ipynb\" target=\"_parent\"><img src=\"https://colab.research.google.com/assets/colab-badge.svg\" alt=\"Open In Colab\"/></a>"
      ]
    },
    {
      "cell_type": "code",
      "metadata": {
        "colab": {
          "base_uri": "https://localhost:8080/"
        },
        "id": "93bEX3OekRpC",
        "outputId": "a5136c33-e940-4169-a2f9-8c58d1ba361d"
      },
      "source": [
        "!pip install pyupbit"
      ],
      "execution_count": 11,
      "outputs": [
        {
          "output_type": "stream",
          "text": [
            "Requirement already satisfied: pyupbit in /usr/local/lib/python3.7/dist-packages (0.2.19)\n",
            "Requirement already satisfied: pyjwt>=2.0.0 in /usr/local/lib/python3.7/dist-packages (from pyupbit) (2.1.0)\n",
            "Requirement already satisfied: pandas in /usr/local/lib/python3.7/dist-packages (from pyupbit) (1.1.5)\n",
            "Requirement already satisfied: websockets in /usr/local/lib/python3.7/dist-packages (from pyupbit) (9.1)\n",
            "Requirement already satisfied: requests in /usr/local/lib/python3.7/dist-packages (from pyupbit) (2.23.0)\n",
            "Requirement already satisfied: numpy>=1.15.4 in /usr/local/lib/python3.7/dist-packages (from pandas->pyupbit) (1.19.5)\n",
            "Requirement already satisfied: python-dateutil>=2.7.3 in /usr/local/lib/python3.7/dist-packages (from pandas->pyupbit) (2.8.1)\n",
            "Requirement already satisfied: pytz>=2017.2 in /usr/local/lib/python3.7/dist-packages (from pandas->pyupbit) (2018.9)\n",
            "Requirement already satisfied: six>=1.5 in /usr/local/lib/python3.7/dist-packages (from python-dateutil>=2.7.3->pandas->pyupbit) (1.15.0)\n",
            "Requirement already satisfied: urllib3!=1.25.0,!=1.25.1,<1.26,>=1.21.1 in /usr/local/lib/python3.7/dist-packages (from requests->pyupbit) (1.24.3)\n",
            "Requirement already satisfied: idna<3,>=2.5 in /usr/local/lib/python3.7/dist-packages (from requests->pyupbit) (2.10)\n",
            "Requirement already satisfied: certifi>=2017.4.17 in /usr/local/lib/python3.7/dist-packages (from requests->pyupbit) (2021.5.30)\n",
            "Requirement already satisfied: chardet<4,>=3.0.2 in /usr/local/lib/python3.7/dist-packages (from requests->pyupbit) (3.0.4)\n"
          ],
          "name": "stdout"
        }
      ]
    },
    {
      "cell_type": "code",
      "metadata": {
        "id": "UZIEl5LLm3ju"
      },
      "source": [
        "import pyupbit"
      ],
      "execution_count": 13,
      "outputs": []
    },
    {
      "cell_type": "code",
      "metadata": {
        "colab": {
          "base_uri": "https://localhost:8080/",
          "height": 419
        },
        "id": "C2v3qLXgHkH6",
        "outputId": "89299565-0cde-4262-8062-a7844e1efc15"
      },
      "source": [
        "#BTC 최근 200시간의 데이터 불러옴\n",
        "df = pyupbit.get_ohlcv(\"KRW-ETH\", interval=\"minute60\")\n",
        "df"
      ],
      "execution_count": 14,
      "outputs": [
        {
          "output_type": "execute_result",
          "data": {
            "text/html": [
              "<div>\n",
              "<style scoped>\n",
              "    .dataframe tbody tr th:only-of-type {\n",
              "        vertical-align: middle;\n",
              "    }\n",
              "\n",
              "    .dataframe tbody tr th {\n",
              "        vertical-align: top;\n",
              "    }\n",
              "\n",
              "    .dataframe thead th {\n",
              "        text-align: right;\n",
              "    }\n",
              "</style>\n",
              "<table border=\"1\" class=\"dataframe\">\n",
              "  <thead>\n",
              "    <tr style=\"text-align: right;\">\n",
              "      <th></th>\n",
              "      <th>open</th>\n",
              "      <th>high</th>\n",
              "      <th>low</th>\n",
              "      <th>close</th>\n",
              "      <th>volume</th>\n",
              "      <th>value</th>\n",
              "    </tr>\n",
              "  </thead>\n",
              "  <tbody>\n",
              "    <tr>\n",
              "      <th>2021-07-27 19:00:00</th>\n",
              "      <td>2582000.0</td>\n",
              "      <td>2599000.0</td>\n",
              "      <td>2573000.0</td>\n",
              "      <td>2592000.0</td>\n",
              "      <td>4896.608213</td>\n",
              "      <td>1.267626e+10</td>\n",
              "    </tr>\n",
              "    <tr>\n",
              "      <th>2021-07-27 20:00:00</th>\n",
              "      <td>2593000.0</td>\n",
              "      <td>2635000.0</td>\n",
              "      <td>2586000.0</td>\n",
              "      <td>2633000.0</td>\n",
              "      <td>5022.685177</td>\n",
              "      <td>1.309322e+10</td>\n",
              "    </tr>\n",
              "    <tr>\n",
              "      <th>2021-07-27 21:00:00</th>\n",
              "      <td>2632000.0</td>\n",
              "      <td>2670000.0</td>\n",
              "      <td>2608000.0</td>\n",
              "      <td>2656000.0</td>\n",
              "      <td>9509.048265</td>\n",
              "      <td>2.511007e+10</td>\n",
              "    </tr>\n",
              "    <tr>\n",
              "      <th>2021-07-27 22:00:00</th>\n",
              "      <td>2656000.0</td>\n",
              "      <td>2670000.0</td>\n",
              "      <td>2640000.0</td>\n",
              "      <td>2647000.0</td>\n",
              "      <td>7409.467854</td>\n",
              "      <td>1.969234e+10</td>\n",
              "    </tr>\n",
              "    <tr>\n",
              "      <th>2021-07-27 23:00:00</th>\n",
              "      <td>2647000.0</td>\n",
              "      <td>2655000.0</td>\n",
              "      <td>2585000.0</td>\n",
              "      <td>2617000.0</td>\n",
              "      <td>14109.565750</td>\n",
              "      <td>3.687737e+10</td>\n",
              "    </tr>\n",
              "    <tr>\n",
              "      <th>...</th>\n",
              "      <td>...</td>\n",
              "      <td>...</td>\n",
              "      <td>...</td>\n",
              "      <td>...</td>\n",
              "      <td>...</td>\n",
              "      <td>...</td>\n",
              "    </tr>\n",
              "    <tr>\n",
              "      <th>2021-08-04 22:00:00</th>\n",
              "      <td>3024000.0</td>\n",
              "      <td>3052000.0</td>\n",
              "      <td>2990000.0</td>\n",
              "      <td>3027000.0</td>\n",
              "      <td>18251.629844</td>\n",
              "      <td>5.518885e+10</td>\n",
              "    </tr>\n",
              "    <tr>\n",
              "      <th>2021-08-04 23:00:00</th>\n",
              "      <td>3026000.0</td>\n",
              "      <td>3063000.0</td>\n",
              "      <td>3018000.0</td>\n",
              "      <td>3058000.0</td>\n",
              "      <td>8278.772669</td>\n",
              "      <td>2.517276e+10</td>\n",
              "    </tr>\n",
              "    <tr>\n",
              "      <th>2021-08-05 00:00:00</th>\n",
              "      <td>3058000.0</td>\n",
              "      <td>3119000.0</td>\n",
              "      <td>3055000.0</td>\n",
              "      <td>3089000.0</td>\n",
              "      <td>13787.004082</td>\n",
              "      <td>4.259944e+10</td>\n",
              "    </tr>\n",
              "    <tr>\n",
              "      <th>2021-08-05 01:00:00</th>\n",
              "      <td>3086000.0</td>\n",
              "      <td>3145000.0</td>\n",
              "      <td>3086000.0</td>\n",
              "      <td>3124000.0</td>\n",
              "      <td>13425.069887</td>\n",
              "      <td>4.186727e+10</td>\n",
              "    </tr>\n",
              "    <tr>\n",
              "      <th>2021-08-05 02:00:00</th>\n",
              "      <td>3124000.0</td>\n",
              "      <td>3127000.0</td>\n",
              "      <td>3100000.0</td>\n",
              "      <td>3110000.0</td>\n",
              "      <td>922.578304</td>\n",
              "      <td>2.869033e+09</td>\n",
              "    </tr>\n",
              "  </tbody>\n",
              "</table>\n",
              "<p>200 rows × 6 columns</p>\n",
              "</div>"
            ],
            "text/plain": [
              "                          open       high  ...        volume         value\n",
              "2021-07-27 19:00:00  2582000.0  2599000.0  ...   4896.608213  1.267626e+10\n",
              "2021-07-27 20:00:00  2593000.0  2635000.0  ...   5022.685177  1.309322e+10\n",
              "2021-07-27 21:00:00  2632000.0  2670000.0  ...   9509.048265  2.511007e+10\n",
              "2021-07-27 22:00:00  2656000.0  2670000.0  ...   7409.467854  1.969234e+10\n",
              "2021-07-27 23:00:00  2647000.0  2655000.0  ...  14109.565750  3.687737e+10\n",
              "...                        ...        ...  ...           ...           ...\n",
              "2021-08-04 22:00:00  3024000.0  3052000.0  ...  18251.629844  5.518885e+10\n",
              "2021-08-04 23:00:00  3026000.0  3063000.0  ...   8278.772669  2.517276e+10\n",
              "2021-08-05 00:00:00  3058000.0  3119000.0  ...  13787.004082  4.259944e+10\n",
              "2021-08-05 01:00:00  3086000.0  3145000.0  ...  13425.069887  4.186727e+10\n",
              "2021-08-05 02:00:00  3124000.0  3127000.0  ...    922.578304  2.869033e+09\n",
              "\n",
              "[200 rows x 6 columns]"
            ]
          },
          "metadata": {
            "tags": []
          },
          "execution_count": 14
        }
      ]
    },
    {
      "cell_type": "code",
      "metadata": {
        "colab": {
          "base_uri": "https://localhost:8080/",
          "height": 419
        },
        "id": "lPQ0GRg2HocC",
        "outputId": "c5fc94f0-be4d-4b97-9441-260e60c010fe"
      },
      "source": [
        "#시간(ds)와 종가(y)값만 남김\n",
        "df = df.reset_index()\n",
        "df['ds'] = df['index']\n",
        "df['y'] = df['close']\n",
        "data = df[['ds','y']]\n",
        "data"
      ],
      "execution_count": 15,
      "outputs": [
        {
          "output_type": "execute_result",
          "data": {
            "text/html": [
              "<div>\n",
              "<style scoped>\n",
              "    .dataframe tbody tr th:only-of-type {\n",
              "        vertical-align: middle;\n",
              "    }\n",
              "\n",
              "    .dataframe tbody tr th {\n",
              "        vertical-align: top;\n",
              "    }\n",
              "\n",
              "    .dataframe thead th {\n",
              "        text-align: right;\n",
              "    }\n",
              "</style>\n",
              "<table border=\"1\" class=\"dataframe\">\n",
              "  <thead>\n",
              "    <tr style=\"text-align: right;\">\n",
              "      <th></th>\n",
              "      <th>ds</th>\n",
              "      <th>y</th>\n",
              "    </tr>\n",
              "  </thead>\n",
              "  <tbody>\n",
              "    <tr>\n",
              "      <th>0</th>\n",
              "      <td>2021-07-27 19:00:00</td>\n",
              "      <td>2592000.0</td>\n",
              "    </tr>\n",
              "    <tr>\n",
              "      <th>1</th>\n",
              "      <td>2021-07-27 20:00:00</td>\n",
              "      <td>2633000.0</td>\n",
              "    </tr>\n",
              "    <tr>\n",
              "      <th>2</th>\n",
              "      <td>2021-07-27 21:00:00</td>\n",
              "      <td>2656000.0</td>\n",
              "    </tr>\n",
              "    <tr>\n",
              "      <th>3</th>\n",
              "      <td>2021-07-27 22:00:00</td>\n",
              "      <td>2647000.0</td>\n",
              "    </tr>\n",
              "    <tr>\n",
              "      <th>4</th>\n",
              "      <td>2021-07-27 23:00:00</td>\n",
              "      <td>2617000.0</td>\n",
              "    </tr>\n",
              "    <tr>\n",
              "      <th>...</th>\n",
              "      <td>...</td>\n",
              "      <td>...</td>\n",
              "    </tr>\n",
              "    <tr>\n",
              "      <th>195</th>\n",
              "      <td>2021-08-04 22:00:00</td>\n",
              "      <td>3027000.0</td>\n",
              "    </tr>\n",
              "    <tr>\n",
              "      <th>196</th>\n",
              "      <td>2021-08-04 23:00:00</td>\n",
              "      <td>3058000.0</td>\n",
              "    </tr>\n",
              "    <tr>\n",
              "      <th>197</th>\n",
              "      <td>2021-08-05 00:00:00</td>\n",
              "      <td>3089000.0</td>\n",
              "    </tr>\n",
              "    <tr>\n",
              "      <th>198</th>\n",
              "      <td>2021-08-05 01:00:00</td>\n",
              "      <td>3124000.0</td>\n",
              "    </tr>\n",
              "    <tr>\n",
              "      <th>199</th>\n",
              "      <td>2021-08-05 02:00:00</td>\n",
              "      <td>3110000.0</td>\n",
              "    </tr>\n",
              "  </tbody>\n",
              "</table>\n",
              "<p>200 rows × 2 columns</p>\n",
              "</div>"
            ],
            "text/plain": [
              "                     ds          y\n",
              "0   2021-07-27 19:00:00  2592000.0\n",
              "1   2021-07-27 20:00:00  2633000.0\n",
              "2   2021-07-27 21:00:00  2656000.0\n",
              "3   2021-07-27 22:00:00  2647000.0\n",
              "4   2021-07-27 23:00:00  2617000.0\n",
              "..                  ...        ...\n",
              "195 2021-08-04 22:00:00  3027000.0\n",
              "196 2021-08-04 23:00:00  3058000.0\n",
              "197 2021-08-05 00:00:00  3089000.0\n",
              "198 2021-08-05 01:00:00  3124000.0\n",
              "199 2021-08-05 02:00:00  3110000.0\n",
              "\n",
              "[200 rows x 2 columns]"
            ]
          },
          "metadata": {
            "tags": []
          },
          "execution_count": 15
        }
      ]
    },
    {
      "cell_type": "code",
      "metadata": {
        "id": "480FcJxkHsbS"
      },
      "source": [
        "#prophet 불러옴\n",
        "from fbprophet import Prophet"
      ],
      "execution_count": 16,
      "outputs": []
    },
    {
      "cell_type": "code",
      "metadata": {
        "colab": {
          "base_uri": "https://localhost:8080/"
        },
        "id": "6lH8UivhH2F7",
        "outputId": "ee6977cc-0dda-44cc-dd5c-9d0ee012ad6c"
      },
      "source": [
        "#학습\n",
        "model = Prophet()\n",
        "model.fit(data)"
      ],
      "execution_count": 17,
      "outputs": [
        {
          "output_type": "stream",
          "text": [
            "INFO:numexpr.utils:NumExpr defaulting to 2 threads.\n",
            "INFO:fbprophet:Disabling yearly seasonality. Run prophet with yearly_seasonality=True to override this.\n",
            "INFO:fbprophet:Disabling weekly seasonality. Run prophet with weekly_seasonality=True to override this.\n"
          ],
          "name": "stderr"
        },
        {
          "output_type": "execute_result",
          "data": {
            "text/plain": [
              "<fbprophet.forecaster.Prophet at 0x7f75c46be390>"
            ]
          },
          "metadata": {
            "tags": []
          },
          "execution_count": 17
        }
      ]
    },
    {
      "cell_type": "code",
      "metadata": {
        "id": "Vj7MoiwlH5Ky"
      },
      "source": [
        "#24시간 미래 예측\n",
        "future = model.make_future_dataframe(periods=24, freq='H')\n",
        "forecast = model.predict(future)"
      ],
      "execution_count": 18,
      "outputs": []
    },
    {
      "cell_type": "code",
      "metadata": {
        "colab": {
          "base_uri": "https://localhost:8080/",
          "height": 441
        },
        "id": "8sk521bvH71a",
        "outputId": "536d97a5-9f64-4aff-e168-c3bd74bf4ef5"
      },
      "source": [
        "#그래프1\n",
        "fig1 = model.plot(forecast)"
      ],
      "execution_count": 19,
      "outputs": [
        {
          "output_type": "display_data",
          "data": {
            "image/png": "[encoded data removed]",
            "text/plain": [
              "<Figure size 720x432 with 1 Axes>"
            ]
          },
          "metadata": {
            "tags": []
          }
        }
      ]
    },
    {
      "cell_type": "code",
      "metadata": {
        "colab": {
          "base_uri": "https://localhost:8080/",
          "height": 441
        },
        "id": "36XBgtS8IAQy",
        "outputId": "7b3b706e-f459-47a0-b5c2-e447442ffd86"
      },
      "source": [
        "#그래프2\n",
        "fig2 = model.plot_components(forecast)"
      ],
      "execution_count": 20,
      "outputs": [
        {
          "output_type": "display_data",
          "data": {
            "image/png": "[encoded data removed]",
            "text/plain": [
              "<Figure size 648x432 with 2 Axes>"
            ]
          },
          "metadata": {
            "tags": []
          }
        }
      ]
    },
    {
      "cell_type": "code",
      "metadata": {
        "colab": {
          "base_uri": "https://localhost:8080/"
        },
        "id": "u6FImXp8IGHq",
        "outputId": "e45f5eea-4fec-4420-a5e4-7ce9443da705"
      },
      "source": [
        "#매수 시점의 가격\n",
        "nowValue = pyupbit.get_current_price(\"KRW-ETH\")\n",
        "nowValue"
      ],
      "execution_count": 22,
      "outputs": [
        {
          "output_type": "execute_result",
          "data": {
            "text/plain": [
              "3108000.0"
            ]
          },
          "metadata": {
            "tags": []
          },
          "execution_count": 22
        }
      ]
    },
    {
      "cell_type": "code",
      "metadata": {
        "colab": {
          "base_uri": "https://localhost:8080/"
        },
        "id": "8xptR4I3IK1a",
        "outputId": "f8cdbc28-701d-4923-c43f-4920f7166795"
      },
      "source": [
        "#종가의 가격을 구함\n",
        "\n",
        "#현재 시간이 자정 이전\n",
        "closeDf = forecast[forecast['ds'] == forecast.iloc[-1]['ds'].replace(hour=9)]\n",
        "\n",
        "#현재 시간이 자정 이후\n",
        "if len(closeDf) == 0:\n",
        "  closeDf = forecast[forecast['ds'] == data.iloc[-1]['ds'].replace(hour=9)]\n",
        "\n",
        "#어쨋든 당일 종가\n",
        "closeValue = closeDf['yhat'].values[0]\n",
        "closeValue"
      ],
      "execution_count": 23,
      "outputs": [
        {
          "output_type": "execute_result",
          "data": {
            "text/plain": [
              "2967762.9530885317"
            ]
          },
          "metadata": {
            "tags": []
          },
          "execution_count": 23
        }
      ]
    },
    {
      "cell_type": "code",
      "metadata": {
        "colab": {
          "base_uri": "https://localhost:8080/"
        },
        "id": "danZrBXEInjK",
        "outputId": "f6cbf58a-f960-474f-c467-5b9641fc86c1"
      },
      "source": [
        "#구체적인 가격\n",
        "print(\"현재 시점 가격: \", nowValue)\n",
        "print(\"종가의 가격: \", closeValue)"
      ],
      "execution_count": 24,
      "outputs": [
        {
          "output_type": "stream",
          "text": [
            "현재 시점 가격:  3108000.0\n",
            "종가의 가격:  2967762.9530885317\n"
          ],
          "name": "stdout"
        }
      ]
    },
    {
      "cell_type": "code",
      "metadata": {
        "colab": {
          "base_uri": "https://localhost:8080/",
          "height": 779
        },
        "id": "TATQ-bEmIssK",
        "outputId": "a80314ad-b2ec-4a59-a66b-12f7e378ea8c"
      },
      "source": [
        "forecast"
      ],
      "execution_count": 25,
      "outputs": [
        {
          "output_type": "execute_result",
          "data": {
            "text/html": [
              "<div>\n",
              "<style scoped>\n",
              "    .dataframe tbody tr th:only-of-type {\n",
              "        vertical-align: middle;\n",
              "    }\n",
              "\n",
              "    .dataframe tbody tr th {\n",
              "        vertical-align: top;\n",
              "    }\n",
              "\n",
              "    .dataframe thead th {\n",
              "        text-align: right;\n",
              "    }\n",
              "</style>\n",
              "<table border=\"1\" class=\"dataframe\">\n",
              "  <thead>\n",
              "    <tr style=\"text-align: right;\">\n",
              "      <th></th>\n",
              "      <th>ds</th>\n",
              "      <th>trend</th>\n",
              "      <th>yhat_lower</th>\n",
              "      <th>yhat_upper</th>\n",
              "      <th>trend_lower</th>\n",
              "      <th>trend_upper</th>\n",
              "      <th>additive_terms</th>\n",
              "      <th>additive_terms_lower</th>\n",
              "      <th>additive_terms_upper</th>\n",
              "      <th>daily</th>\n",
              "      <th>daily_lower</th>\n",
              "      <th>daily_upper</th>\n",
              "      <th>multiplicative_terms</th>\n",
              "      <th>multiplicative_terms_lower</th>\n",
              "      <th>multiplicative_terms_upper</th>\n",
              "      <th>yhat</th>\n",
              "    </tr>\n",
              "  </thead>\n",
              "  <tbody>\n",
              "    <tr>\n",
              "      <th>0</th>\n",
              "      <td>2021-07-27 19:00:00</td>\n",
              "      <td>2.614446e+06</td>\n",
              "      <td>2.549671e+06</td>\n",
              "      <td>2.659000e+06</td>\n",
              "      <td>2.614446e+06</td>\n",
              "      <td>2.614446e+06</td>\n",
              "      <td>-9188.724881</td>\n",
              "      <td>-9188.724881</td>\n",
              "      <td>-9188.724881</td>\n",
              "      <td>-9188.724881</td>\n",
              "      <td>-9188.724881</td>\n",
              "      <td>-9188.724881</td>\n",
              "      <td>0.0</td>\n",
              "      <td>0.0</td>\n",
              "      <td>0.0</td>\n",
              "      <td>2.605257e+06</td>\n",
              "    </tr>\n",
              "    <tr>\n",
              "      <th>1</th>\n",
              "      <td>2021-07-27 20:00:00</td>\n",
              "      <td>2.615688e+06</td>\n",
              "      <td>2.550229e+06</td>\n",
              "      <td>2.658324e+06</td>\n",
              "      <td>2.615688e+06</td>\n",
              "      <td>2.615688e+06</td>\n",
              "      <td>-9610.193871</td>\n",
              "      <td>-9610.193871</td>\n",
              "      <td>-9610.193871</td>\n",
              "      <td>-9610.193871</td>\n",
              "      <td>-9610.193871</td>\n",
              "      <td>-9610.193871</td>\n",
              "      <td>0.0</td>\n",
              "      <td>0.0</td>\n",
              "      <td>0.0</td>\n",
              "      <td>2.606078e+06</td>\n",
              "    </tr>\n",
              "    <tr>\n",
              "      <th>2</th>\n",
              "      <td>2021-07-27 21:00:00</td>\n",
              "      <td>2.616931e+06</td>\n",
              "      <td>2.553109e+06</td>\n",
              "      <td>2.668491e+06</td>\n",
              "      <td>2.616931e+06</td>\n",
              "      <td>2.616931e+06</td>\n",
              "      <td>-7079.222940</td>\n",
              "      <td>-7079.222940</td>\n",
              "      <td>-7079.222940</td>\n",
              "      <td>-7079.222940</td>\n",
              "      <td>-7079.222940</td>\n",
              "      <td>-7079.222940</td>\n",
              "      <td>0.0</td>\n",
              "      <td>0.0</td>\n",
              "      <td>0.0</td>\n",
              "      <td>2.609852e+06</td>\n",
              "    </tr>\n",
              "    <tr>\n",
              "      <th>3</th>\n",
              "      <td>2021-07-27 22:00:00</td>\n",
              "      <td>2.618174e+06</td>\n",
              "      <td>2.560096e+06</td>\n",
              "      <td>2.671591e+06</td>\n",
              "      <td>2.618174e+06</td>\n",
              "      <td>2.618174e+06</td>\n",
              "      <td>-882.030873</td>\n",
              "      <td>-882.030873</td>\n",
              "      <td>-882.030873</td>\n",
              "      <td>-882.030873</td>\n",
              "      <td>-882.030873</td>\n",
              "      <td>-882.030873</td>\n",
              "      <td>0.0</td>\n",
              "      <td>0.0</td>\n",
              "      <td>0.0</td>\n",
              "      <td>2.617292e+06</td>\n",
              "    </tr>\n",
              "    <tr>\n",
              "      <th>4</th>\n",
              "      <td>2021-07-27 23:00:00</td>\n",
              "      <td>2.619417e+06</td>\n",
              "      <td>2.570426e+06</td>\n",
              "      <td>2.680883e+06</td>\n",
              "      <td>2.619417e+06</td>\n",
              "      <td>2.619417e+06</td>\n",
              "      <td>5490.166998</td>\n",
              "      <td>5490.166998</td>\n",
              "      <td>5490.166998</td>\n",
              "      <td>5490.166998</td>\n",
              "      <td>5490.166998</td>\n",
              "      <td>5490.166998</td>\n",
              "      <td>0.0</td>\n",
              "      <td>0.0</td>\n",
              "      <td>0.0</td>\n",
              "      <td>2.624907e+06</td>\n",
              "    </tr>\n",
              "    <tr>\n",
              "      <th>...</th>\n",
              "      <td>...</td>\n",
              "      <td>...</td>\n",
              "      <td>...</td>\n",
              "      <td>...</td>\n",
              "      <td>...</td>\n",
              "      <td>...</td>\n",
              "      <td>...</td>\n",
              "      <td>...</td>\n",
              "      <td>...</td>\n",
              "      <td>...</td>\n",
              "      <td>...</td>\n",
              "      <td>...</td>\n",
              "      <td>...</td>\n",
              "      <td>...</td>\n",
              "      <td>...</td>\n",
              "      <td>...</td>\n",
              "    </tr>\n",
              "    <tr>\n",
              "      <th>219</th>\n",
              "      <td>2021-08-05 22:00:00</td>\n",
              "      <td>2.953316e+06</td>\n",
              "      <td>2.892766e+06</td>\n",
              "      <td>3.014019e+06</td>\n",
              "      <td>2.938192e+06</td>\n",
              "      <td>2.969360e+06</td>\n",
              "      <td>-882.030873</td>\n",
              "      <td>-882.030873</td>\n",
              "      <td>-882.030873</td>\n",
              "      <td>-882.030873</td>\n",
              "      <td>-882.030873</td>\n",
              "      <td>-882.030873</td>\n",
              "      <td>0.0</td>\n",
              "      <td>0.0</td>\n",
              "      <td>0.0</td>\n",
              "      <td>2.952434e+06</td>\n",
              "    </tr>\n",
              "    <tr>\n",
              "      <th>220</th>\n",
              "      <td>2021-08-05 23:00:00</td>\n",
              "      <td>2.952989e+06</td>\n",
              "      <td>2.900318e+06</td>\n",
              "      <td>3.020086e+06</td>\n",
              "      <td>2.936450e+06</td>\n",
              "      <td>2.970141e+06</td>\n",
              "      <td>5490.166998</td>\n",
              "      <td>5490.166998</td>\n",
              "      <td>5490.166998</td>\n",
              "      <td>5490.166998</td>\n",
              "      <td>5490.166998</td>\n",
              "      <td>5490.166998</td>\n",
              "      <td>0.0</td>\n",
              "      <td>0.0</td>\n",
              "      <td>0.0</td>\n",
              "      <td>2.958479e+06</td>\n",
              "    </tr>\n",
              "    <tr>\n",
              "      <th>221</th>\n",
              "      <td>2021-08-06 00:00:00</td>\n",
              "      <td>2.952662e+06</td>\n",
              "      <td>2.897378e+06</td>\n",
              "      <td>3.016921e+06</td>\n",
              "      <td>2.935036e+06</td>\n",
              "      <td>2.971383e+06</td>\n",
              "      <td>7154.186760</td>\n",
              "      <td>7154.186760</td>\n",
              "      <td>7154.186760</td>\n",
              "      <td>7154.186760</td>\n",
              "      <td>7154.186760</td>\n",
              "      <td>7154.186760</td>\n",
              "      <td>0.0</td>\n",
              "      <td>0.0</td>\n",
              "      <td>0.0</td>\n",
              "      <td>2.959817e+06</td>\n",
              "    </tr>\n",
              "    <tr>\n",
              "      <th>222</th>\n",
              "      <td>2021-08-06 01:00:00</td>\n",
              "      <td>2.952335e+06</td>\n",
              "      <td>2.896591e+06</td>\n",
              "      <td>3.013667e+06</td>\n",
              "      <td>2.933351e+06</td>\n",
              "      <td>2.972889e+06</td>\n",
              "      <td>2537.484588</td>\n",
              "      <td>2537.484588</td>\n",
              "      <td>2537.484588</td>\n",
              "      <td>2537.484588</td>\n",
              "      <td>2537.484588</td>\n",
              "      <td>2537.484588</td>\n",
              "      <td>0.0</td>\n",
              "      <td>0.0</td>\n",
              "      <td>0.0</td>\n",
              "      <td>2.954873e+06</td>\n",
              "    </tr>\n",
              "    <tr>\n",
              "      <th>223</th>\n",
              "      <td>2021-08-06 02:00:00</td>\n",
              "      <td>2.952009e+06</td>\n",
              "      <td>2.886196e+06</td>\n",
              "      <td>3.003250e+06</td>\n",
              "      <td>2.932045e+06</td>\n",
              "      <td>2.974068e+06</td>\n",
              "      <td>-4634.161581</td>\n",
              "      <td>-4634.161581</td>\n",
              "      <td>-4634.161581</td>\n",
              "      <td>-4634.161581</td>\n",
              "      <td>-4634.161581</td>\n",
              "      <td>-4634.161581</td>\n",
              "      <td>0.0</td>\n",
              "      <td>0.0</td>\n",
              "      <td>0.0</td>\n",
              "      <td>2.947374e+06</td>\n",
              "    </tr>\n",
              "  </tbody>\n",
              "</table>\n",
              "<p>224 rows × 16 columns</p>\n",
              "</div>"
            ],
            "text/plain": [
              "                     ds         trend  ...  multiplicative_terms_upper          yhat\n",
              "0   2021-07-27 19:00:00  2.614446e+06  ...                         0.0  2.605257e+06\n",
              "1   2021-07-27 20:00:00  2.615688e+06  ...                         0.0  2.606078e+06\n",
              "2   2021-07-27 21:00:00  2.616931e+06  ...                         0.0  2.609852e+06\n",
              "3   2021-07-27 22:00:00  2.618174e+06  ...                         0.0  2.617292e+06\n",
              "4   2021-07-27 23:00:00  2.619417e+06  ...                         0.0  2.624907e+06\n",
              "..                  ...           ...  ...                         ...           ...\n",
              "219 2021-08-05 22:00:00  2.953316e+06  ...                         0.0  2.952434e+06\n",
              "220 2021-08-05 23:00:00  2.952989e+06  ...                         0.0  2.958479e+06\n",
              "221 2021-08-06 00:00:00  2.952662e+06  ...                         0.0  2.959817e+06\n",
              "222 2021-08-06 01:00:00  2.952335e+06  ...                         0.0  2.954873e+06\n",
              "223 2021-08-06 02:00:00  2.952009e+06  ...                         0.0  2.947374e+06\n",
              "\n",
              "[224 rows x 16 columns]"
            ]
          },
          "metadata": {
            "tags": []
          },
          "execution_count": 25
        }
      ]
    }
  ]
}